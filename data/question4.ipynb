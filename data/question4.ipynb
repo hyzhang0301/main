{
 "cells": [
  {
   "cell_type": "code",
   "execution_count": 55,
   "metadata": {},
   "outputs": [],
   "source": [
    "import numpy as np\n",
    "import pandas as pd\n",
    "from utils import read_column_from_excel, get_onehot_labels, get_columns, \\\n",
    "                  MultiLinearRegression, PolynomialRegression, \\\n",
    "                  get_mean, get_std, max, min, peak_to_peak\n",
    "                  \n",
    "                  "
   ]
  },
  {
   "cell_type": "code",
   "execution_count": null,
   "metadata": {},
   "outputs": [],
   "source": [
    "# 获取磁通密度\n",
    "(\n",
    "    selected_columns1, \n",
    "    selected_columns2, \n",
    "    selected_columns3, \n",
    "    selected_columns4 \n",
    " ) = get_columns('附件一（训练集）.xlsx', 4)\n",
    "\n",
    "# 从第四列开始向后（下标从0开始）\n",
    "selected_columns1"
   ]
  },
  {
   "cell_type": "code",
   "execution_count": null,
   "metadata": {},
   "outputs": [],
   "source": [
    "# 处理磁通密度特征\n",
    "mean1 = get_mean(selected_columns1)\n",
    "mean2 = get_mean(selected_columns2)\n",
    "mean3 = get_mean(selected_columns3)\n",
    "mean4 = get_mean(selected_columns4)\n",
    "\n",
    "std_value1 = get_std(selected_columns1)\n",
    "std_value2 = get_std(selected_columns2)\n",
    "std_value3 = get_std(selected_columns3)\n",
    "std_value4 = get_std(selected_columns4)\n",
    "\n",
    "max1 = max(selected_columns1)\n",
    "max2 = max(selected_columns2)\n",
    "max3 = max(selected_columns3)\n",
    "max4 = max(selected_columns4)\n",
    "\n",
    "min1 = min(selected_columns1)\n",
    "min2 = min(selected_columns2)\n",
    "min3 = min(selected_columns3)\n",
    "min4 = min(selected_columns4)\n",
    "\n",
    "peak1 = peak_to_peak(selected_columns1)\n",
    "peak2 = peak_to_peak(selected_columns2)\n",
    "peak3 = peak_to_peak(selected_columns3)\n",
    "peak4 = peak_to_peak(selected_columns4)\n",
    "\n",
    "peak4"
   ]
  },
  {
   "cell_type": "code",
   "execution_count": 58,
   "metadata": {},
   "outputs": [],
   "source": [
    "temperature1 = read_column_from_excel('附件一（训练集）.xlsx', column_name=\"温度，oC\", sheet_name=\"材料1\")\n",
    "wave_shape1 = get_onehot_labels('附件一（训练集）.xlsx', column_name=\"励磁波形\", name=\"材料1\")\n",
    "material1_hz = read_column_from_excel('附件一（训练集）.xlsx', column_name=\"频率，Hz\", sheet_name=\"材料1\")\n",
    "\n",
    "temperature2 = read_column_from_excel('附件一（训练集）.xlsx', column_name=\"温度，oC\", sheet_name=\"材料2\")\n",
    "wave_shape2 = get_onehot_labels('附件一（训练集）.xlsx', column_name=\"励磁波形\", name=\"材料2\")\n",
    "material2_hz = read_column_from_excel('附件一（训练集）.xlsx', column_name=\"频率，Hz\", sheet_name=\"材料2\")\n",
    "\n",
    "temperature3 = read_column_from_excel('附件一（训练集）.xlsx', column_name=\"温度，oC\", sheet_name=\"材料3\")\n",
    "wave_shape3 = get_onehot_labels('附件一（训练集）.xlsx', column_name=\"励磁波形\", name=\"材料3\")\n",
    "material3_hz = read_column_from_excel('附件一（训练集）.xlsx', column_name=\"频率，Hz\", sheet_name=\"材料3\")\n",
    "\n",
    "temperature4 = read_column_from_excel('附件一（训练集）.xlsx', column_name=\"温度，oC\", sheet_name=\"材料4\")\n",
    "wave_shape4 = get_onehot_labels('附件一（训练集）.xlsx', column_name=\"励磁波形\", name=\"材料4\")\n",
    "material4_hz = read_column_from_excel('附件一（训练集）.xlsx', column_name=\"频率，Hz\", sheet_name=\"材料4\")\n"
   ]
  },
  {
   "cell_type": "code",
   "execution_count": null,
   "metadata": {},
   "outputs": [],
   "source": [
    "material1_hz"
   ]
  },
  {
   "cell_type": "code",
   "execution_count": null,
   "metadata": {},
   "outputs": [],
   "source": [
    "# 创建四个 one-hot 矩阵 以表示材料特征\n",
    "one_hot_matrix1 = np.zeros((3400, 4))       # 材料1 [1, 0, 0, 0]\n",
    "one_hot_matrix1[:, 0] = 1  \n",
    "\n",
    "one_hot_matrix2 = np.zeros((3000, 4))       # 材料2 [0, 1, 0, 0]\n",
    "one_hot_matrix2[:, 1] = 1  \n",
    "\n",
    "one_hot_matrix3 = np.zeros((3200, 4))\n",
    "one_hot_matrix3[:, 2] = 1  \n",
    "\n",
    "one_hot_matrix4 = np.zeros((2800, 4))\n",
    "one_hot_matrix4[:, 3] = 1  \n",
    "\n",
    "print(one_hot_matrix1)\n",
    "# 拼接 \n",
    "x1 = np.column_stack((temperature1, wave_shape1, one_hot_matrix1, material1_hz, max1, min1, std_value1, peak1, mean1))\n",
    "x2 = np.column_stack((temperature2, wave_shape2, one_hot_matrix2, material2_hz, max2, min2, std_value2, peak2, mean2))\n",
    "x3 = np.column_stack((temperature3, wave_shape3, one_hot_matrix3, material3_hz, max3, min3, std_value3, peak3, mean3))\n",
    "x4 = np.column_stack((temperature4, wave_shape4, one_hot_matrix4, material4_hz, max4, min4, std_value4, peak4, mean4))\n",
    "\n",
    "# 拼接输入矩阵\n",
    "X_combined = np.vstack((x1, x2, x3, x4))\n",
    "X_combined.shape"
   ]
  },
  {
   "cell_type": "code",
   "execution_count": 146,
   "metadata": {},
   "outputs": [
    {
     "data": {
      "text/plain": [
       "(12400, 14)"
      ]
     },
     "execution_count": 146,
     "metadata": {},
     "output_type": "execute_result"
    }
   ],
   "source": [
    "X_combined.shape"
   ]
  },
  {
   "cell_type": "markdown",
   "metadata": {},
   "source": [
    "**拼接标签数据**"
   ]
  },
  {
   "cell_type": "code",
   "execution_count": null,
   "metadata": {},
   "outputs": [],
   "source": [
    "y1 = read_column_from_excel('附件一（训练集）.xlsx', column_name='磁芯损耗，w/m3', sheet_name='材料1')\n",
    "y2 = read_column_from_excel('附件一（训练集）.xlsx', column_name='磁芯损耗，w/m3', sheet_name='材料2')\n",
    "y3 = read_column_from_excel('附件一（训练集）.xlsx', column_name='磁芯损耗，w/m3', sheet_name='材料3')\n",
    "y4 = read_column_from_excel('附件一（训练集）.xlsx', column_name='磁芯损耗，w/m3', sheet_name='材料4')\n",
    "print(y4)\n",
    "y4.shape"
   ]
  },
  {
   "cell_type": "code",
   "execution_count": 145,
   "metadata": {},
   "outputs": [
    {
     "data": {
      "text/plain": [
       "array([  1997.95525,   2427.74983,   3332.72576, ...,  46232.49153,\n",
       "        61458.0859 , 107581.1893 ])"
      ]
     },
     "execution_count": 145,
     "metadata": {},
     "output_type": "execute_result"
    }
   ],
   "source": [
    "y_combined = np.concatenate((y1, y2, y3, y4))\n",
    "y_combined"
   ]
  },
  {
   "cell_type": "markdown",
   "metadata": {},
   "source": [
    "### 训练"
   ]
  },
  {
   "cell_type": "markdown",
   "metadata": {},
   "source": [
    "1. **使用多元线性回归**"
   ]
  },
  {
   "cell_type": "code",
   "execution_count": 147,
   "metadata": {},
   "outputs": [
    {
     "name": "stdout",
     "output_type": "stream",
     "text": [
      "Model R² score: 0.6354522047500337\n"
     ]
    },
    {
     "data": {
      "text/plain": [
       "(12400,)"
      ]
     },
     "execution_count": 147,
     "metadata": {},
     "output_type": "execute_result"
    }
   ],
   "source": [
    "\n",
    "from sklearn.model_selection import train_test_split\n",
    "# 多元逻辑回归\n",
    "mlr = MultiLinearRegression()\n",
    "X = X_combined\n",
    "Y = y_combined\n",
    "\n",
    "X_train, X_test, Y_train, Y_test = train_test_split(X, Y, test_size=0.2, random_state=42)\n",
    "\n",
    "\n",
    "\n",
    "# 评估结果\n",
    "# 拟合\n",
    "mlr.fit(X_train, Y_train)\n",
    "# 评估\n",
    "score = mlr.score(X_test, Y_test)\n",
    "print(f\"Model R² score: {score}\")\n",
    "Y.shape"
   ]
  },
  {
   "cell_type": "markdown",
   "metadata": {},
   "source": [
    "2. **支持向量机回归**\n"
   ]
  },
  {
   "cell_type": "markdown",
   "metadata": {},
   "source": [
    "3. **神经网络**\n"
   ]
  },
  {
   "cell_type": "markdown",
   "metadata": {},
   "source": [
    "4. **多项式回归**"
   ]
  },
  {
   "cell_type": "code",
   "execution_count": 152,
   "metadata": {},
   "outputs": [
    {
     "name": "stdout",
     "output_type": "stream",
     "text": [
      "MSE: 11824779445.5354, R²: 0.9089\n"
     ]
    },
    {
     "name": "stderr",
     "output_type": "stream",
     "text": [
      "d:\\miniforge3\\envs\\study\\lib\\site-packages\\sklearn\\linear_model\\_ridge.py:216: LinAlgWarning: Ill-conditioned matrix (rcond=9.18591e-26): result may not be accurate.\n",
      "  return linalg.solve(A, Xy, assume_a=\"pos\", overwrite_a=True).T\n"
     ]
    }
   ],
   "source": [
    "from utils import PolynomialRegression\n",
    "\n",
    "plR = PolynomialRegression(alpha=10, degree=2)\n",
    "\n",
    "plR.fit(X_train, Y_train)\n",
    "mse, r2  = plR.evaluate(X_test, Y_test)\n",
    "\n",
    "# 打印结果\n",
    "print(f'MSE: {mse:.4f}, R²: {r2:.4f}')\n",
    "\n"
   ]
  },
  {
   "cell_type": "code",
   "execution_count": 150,
   "metadata": {},
   "outputs": [
    {
     "name": "stdout",
     "output_type": "stream",
     "text": [
      "生成的多项式表达式:\n",
      "123466.29 + -510.67 * x^1 + -14031.95 * x^2 + -2682.85 * x^3 + 16714.81 * x^4 + 23226.48 * x^5 + 1109.53 * x^6 + -21354.67 * x^7 + -2981.33 * x^8 + -0.66 * x^9 + -352083.16 * x^10 + 360805.52 * x^11 + -194709.00 * x^12 + -712888.68 * x^13 + -0.09 * x^14 + 20.86 * x^15 + 138.75 * x^16 + -150.61 * x^17 + -498.81 * x^18 + -47.06 * x^19 + -116.92 * x^20 + -225.55 * x^21 + -121.14 * x^22 + -0.00 * x^23 + 109239.65 * x^24 + 140662.78 * x^25 + 106569.79 * x^26 + -31423.14 * x^27 + -7.72 * x^28 + -14031.95 * x^29 + 25627.79 * x^32 + -14087.27 * x^33 + -23546.38 * x^34 + -2026.08 * x^35 + -0.28 * x^36 + -71120.05 * x^37 + 132558.23 * x^38 + -58766.07 * x^39 + -203678.28 * x^40 + -0.00 * x^41 + -2682.85 * x^42 + -7261.70 * x^44 + 7422.25 * x^45 + 3896.84 * x^46 + -6740.24 * x^47 + -0.31 * x^48 + -124050.03 * x^49 + 106705.87 * x^50 + -36508.24 * x^51 + -230755.90 * x^52 + 0.00 * x^53 + 16714.81 * x^54 + 4860.39 * x^55 + 7774.55 * x^56 + -1705.13 * x^57 + 5784.99 * x^58 + -0.26 * x^59 + -156913.08 * x^60 + 121541.42 * x^61 + -99434.69 * x^62 + -278454.50 * x^63 + -0.09 * x^64 + 23226.48 * x^65 + -0.41 * x^69 + -207168.70 * x^70 + 197735.08 * x^71 + -115271.08 * x^72 + -404903.79 * x^73 + -0.00 * x^74 + 1109.53 * x^75 + -0.20 * x^78 + -118579.51 * x^79 + 125984.48 * x^80 + -56322.76 * x^81 + -244563.99 * x^82 + -0.05 * x^83 + -21354.67 * x^84 + -0.08 * x^86 + 15623.60 * x^87 + 2496.89 * x^88 + -25207.53 * x^89 + 13126.72 * x^90 + -0.07 * x^91 + -2981.33 * x^92 + -0.19 * x^93 + -41958.55 * x^94 + 34589.07 * x^95 + 2092.37 * x^96 + -76547.62 * x^97 + 0.03 * x^98 + 0.00 * x^99 + 133.81 * x^100 + 111.10 * x^101 + -48.12 * x^102 + 22.65 * x^103 + -22108.47 * x^104 + 652586.75 * x^105 + -641080.94 * x^106 + 394540.88 * x^107 + 1293667.69 * x^108 + -0.01 * x^109 + 630078.70 * x^110 + -388553.32 * x^111 + -1271159.64 * x^112 + 0.01 * x^113 + 239248.05 * x^114 + 783094.21 * x^115 + -0.01 * x^116 + 2564827.33 * x^117 + -0.02 * x^118 + -0.00 * x^119\n"
     ]
    }
   ],
   "source": [
    "# 输出多项式系数\n",
    "coefficients = plR.model.coef_\n",
    "intercept = plR.model.intercept_\n",
    "\n",
    "# 构建多项式表达式\n",
    "polynomial = f\"{intercept:.2f}\"\n",
    "for i in range(1, len(coefficients)):\n",
    "    if coefficients[i] != 0:\n",
    "        polynomial += f\" + {coefficients[i]:.2f} * x^{i}\"\n",
    "\n",
    "print(\"生成的多项式表达式:\")\n",
    "print(polynomial)"
   ]
  },
  {
   "cell_type": "code",
   "execution_count": 151,
   "metadata": {},
   "outputs": [
    {
     "name": "stdout",
     "output_type": "stream",
     "text": [
      "Mean MSE: 8744993624.8580, Mean R²: 0.9382\n"
     ]
    },
    {
     "name": "stderr",
     "output_type": "stream",
     "text": [
      "d:\\miniforge3\\envs\\study\\lib\\site-packages\\sklearn\\linear_model\\_ridge.py:216: LinAlgWarning: Ill-conditioned matrix (rcond=8.82085e-27): result may not be accurate.\n",
      "  return linalg.solve(A, Xy, assume_a=\"pos\", overwrite_a=True).T\n",
      "d:\\miniforge3\\envs\\study\\lib\\site-packages\\sklearn\\linear_model\\_ridge.py:216: LinAlgWarning: Ill-conditioned matrix (rcond=8.74346e-27): result may not be accurate.\n",
      "  return linalg.solve(A, Xy, assume_a=\"pos\", overwrite_a=True).T\n",
      "d:\\miniforge3\\envs\\study\\lib\\site-packages\\sklearn\\linear_model\\_ridge.py:216: LinAlgWarning: Ill-conditioned matrix (rcond=8.71518e-27): result may not be accurate.\n",
      "  return linalg.solve(A, Xy, assume_a=\"pos\", overwrite_a=True).T\n",
      "d:\\miniforge3\\envs\\study\\lib\\site-packages\\sklearn\\linear_model\\_ridge.py:216: LinAlgWarning: Ill-conditioned matrix (rcond=8.63455e-27): result may not be accurate.\n",
      "  return linalg.solve(A, Xy, assume_a=\"pos\", overwrite_a=True).T\n",
      "d:\\miniforge3\\envs\\study\\lib\\site-packages\\sklearn\\linear_model\\_ridge.py:216: LinAlgWarning: Ill-conditioned matrix (rcond=8.64224e-27): result may not be accurate.\n",
      "  return linalg.solve(A, Xy, assume_a=\"pos\", overwrite_a=True).T\n"
     ]
    }
   ],
   "source": [
    "import numpy as np\n",
    "from sklearn.model_selection import KFold\n",
    "from utils import PolynomialRegression\n",
    "\n",
    "# 初始化模型\n",
    "plR = PolynomialRegression()\n",
    "\n",
    "# 定义 KFold\n",
    "kf = KFold(n_splits=5, shuffle=True, random_state=42)  # 5 折交叉验证\n",
    "\n",
    "mse_list = []\n",
    "r2_list = []\n",
    "\n",
    "# 进行交叉验证\n",
    "for train_index, test_index in kf.split(X):\n",
    "    X_train, X_test = X[train_index], X[test_index]\n",
    "    Y_train, Y_test = Y[train_index], Y[test_index]\n",
    "    \n",
    "    plR.fit(X_train, Y_train)\n",
    "    mse, r2 = plR.evaluate(X_test, Y_test)\n",
    "    \n",
    "    mse_list.append(mse)\n",
    "    r2_list.append(r2)\n",
    "\n",
    "# 计算平均值\n",
    "mean_mse = np.mean(mse_list)\n",
    "mean_r2 = np.mean(r2_list)\n",
    "\n",
    "# 打印结果\n",
    "print(f'Mean MSE: {mean_mse:.4f}, Mean R²: {mean_r2:.4f}')\n"
   ]
  },
  {
   "cell_type": "markdown",
   "metadata": {},
   "source": [
    "## 使用附件三进行预测"
   ]
  },
  {
   "cell_type": "code",
   "execution_count": null,
   "metadata": {},
   "outputs": [],
   "source": [
    "from utils import get_onehot_labels\n",
    "material = get_onehot_labels(\"附件三（测试集）.xlsx\", \"磁芯材料\", \"测试集\")\n",
    "material = material.astype(float)\n",
    "print(material)\n"
   ]
  },
  {
   "cell_type": "code",
   "execution_count": null,
   "metadata": {},
   "outputs": [],
   "source": [
    "type(material)"
   ]
  },
  {
   "cell_type": "code",
   "execution_count": 89,
   "metadata": {},
   "outputs": [],
   "source": [
    "# 获取磁通密度\n",
    "df = pd.read_excel('附件三（测试集）.xlsx')\n",
    "selected_columns = df.iloc[:,  5: ]\n",
    "\n",
    "# 处理磁通密度特征\n",
    "mean = get_mean(selected_columns)\n",
    "\n",
    "std_value = get_std(selected_columns)\n",
    "\n",
    "max_values = max(selected_columns)\n",
    "\n",
    "min_values = min(selected_columns)\n",
    "\n",
    "peak = peak_to_peak(selected_columns)\n",
    "\n",
    "temperature = read_column_from_excel('附件三（测试集）.xlsx', column_name=\"温度，oC\", sheet_name=\"测试集\")\n",
    "wave_shape = get_onehot_labels('附件三（测试集）.xlsx', column_name=\"励磁波形\", name=\"测试集\")\n",
    "material_hz = read_column_from_excel('附件三（测试集）.xlsx', column_name=\"频率，Hz\", sheet_name=\"测试集\")\n",
    "\n",
    "x_question4 = np.column_stack((temperature, wave_shape, material, material_hz, max_values, min_values, std_value, peak, mean))\n",
    "\n"
   ]
  },
  {
   "cell_type": "code",
   "execution_count": null,
   "metadata": {},
   "outputs": [],
   "source": [
    "print(x_question4)\n",
    "x_question4.shape"
   ]
  },
  {
   "cell_type": "markdown",
   "metadata": {},
   "source": [
    "### 使用多元线性回归预测"
   ]
  },
  {
   "cell_type": "code",
   "execution_count": null,
   "metadata": {},
   "outputs": [],
   "source": [
    "np.set_printoptions(suppress=True)  # 关闭科学计数法\n",
    "predict_results = mlr.predict(x_question4)\n",
    "print(predict_results)\n",
    "\n",
    "# 保留一位小数\n",
    "results =  np.round(predict_results, 1)\n",
    "print(\"保留一位小数:\")\n",
    "print(results)\n",
    "\n"
   ]
  },
  {
   "cell_type": "markdown",
   "metadata": {},
   "source": [
    "### 使用多项式回归预测"
   ]
  },
  {
   "cell_type": "code",
   "execution_count": null,
   "metadata": {},
   "outputs": [],
   "source": [
    "\n",
    "PlR_results = plR.predict(x_question4)\n",
    "print(PlR_results)\n",
    "\n",
    "# 保留一位小数\n",
    "results2 =  np.round(PlR_results, 1)\n",
    "print(\"保留一位小数:\")\n",
    "print(results2)"
   ]
  },
  {
   "cell_type": "code",
   "execution_count": null,
   "metadata": {},
   "outputs": [],
   "source": [
    "\n",
    "results2"
   ]
  },
  {
   "cell_type": "markdown",
   "metadata": {},
   "source": [
    "##  Lasso 回归"
   ]
  },
  {
   "cell_type": "code",
   "execution_count": 94,
   "metadata": {},
   "outputs": [],
   "source": [
    "from sklearn.linear_model import Lasso\n",
    "from sklearn.model_selection import train_test_split\n",
    "from sklearn.metrics import mean_squared_error, r2_score\n",
    "\n",
    "\n",
    "\n"
   ]
  },
  {
   "cell_type": "code",
   "execution_count": 153,
   "metadata": {},
   "outputs": [
    {
     "name": "stdout",
     "output_type": "stream",
     "text": [
      "Coefficients: [    -1276.38964135    -41977.5220532     -32919.49338366\n",
      "     18359.96916258    -34659.4714705     -15340.57535052\n",
      "     11163.16278131         2.38038347         1.22512703\n",
      "   4815819.13205932     33733.21950935 -12636831.27279304\n",
      "   3934904.73577217        -0.        ]\n",
      "MSE: 47036303075.91624\n",
      "R²: 0.6376750576112347\n"
     ]
    },
    {
     "name": "stderr",
     "output_type": "stream",
     "text": [
      "d:\\miniforge3\\envs\\study\\lib\\site-packages\\sklearn\\linear_model\\_coordinate_descent.py:697: ConvergenceWarning: Objective did not converge. You might want to increase the number of iterations, check the scale of the features or consider increasing regularisation. Duality gap: 2.580e+14, tolerance: 1.434e+11\n",
      "  model = cd_fast.enet_coordinate_descent(\n"
     ]
    }
   ],
   "source": [
    "from utils import LassoRegressionModel\n",
    "# 创建模型实例\n",
    "lasso_model = LassoRegressionModel(alpha=0.5)\n",
    "\n",
    "# 假设 X 和 y 是你的特征和标签数据\n",
    "lasso_model.fit(X_train, Y_train)\n",
    "# 进行预测\n",
    "predictions = lasso_model.predict(X_test)\n",
    "\n",
    "lasso_model.evaluate(X_test, Y_test)\n",
    "\n",
    "\n",
    "# 获取特征系数\n",
    "coefficients = lasso_model.get_coefficients()\n",
    "print(\"Coefficients:\", coefficients)\n",
    "\n",
    "# 获取评估指标\n",
    "metrics = lasso_model.get_metrics()\n",
    "print(\"MSE:\", metrics['MSE'])\n",
    "print(\"R²:\", metrics['R²'])"
   ]
  },
  {
   "cell_type": "code",
   "execution_count": null,
   "metadata": {},
   "outputs": [],
   "source": [
    "# 获取特征系数\n",
    "coefficients = lasso_model.get_coefficients()\n",
    "\n",
    "# 输出特征及其系数\n",
    "feature_names = ['温度', '波形1', '波形2', '波形3', '材料1', '材料2','材料3','材料4','material_hz', 'max_values', \\\n",
    "                 'min_values', 'std_value', 'peak', 'mean']  # 以你的特征名称替换\n",
    "for feature, coef in zip(feature_names, coefficients):\n",
    "    print(f\"Feature: {feature}, Coefficient: {coef}\")"
   ]
  },
  {
   "cell_type": "code",
   "execution_count": null,
   "metadata": {},
   "outputs": [],
   "source": [
    "lasso_model.predict(x_question4)"
   ]
  },
  {
   "cell_type": "code",
   "execution_count": 141,
   "metadata": {},
   "outputs": [
    {
     "name": "stdout",
     "output_type": "stream",
     "text": [
      "torch.Size([9920, 1])\n",
      "(9920, 14) <class 'numpy.ndarray'>\n",
      "Test RMSE: 4987566.0, R²: -190.62066650390625\n"
     ]
    }
   ],
   "source": [
    "import torch\n",
    "import torch.nn as nn\n",
    "import torch.optim as optim\n",
    "import numpy as np\n",
    "import torch.nn.functional as F\n",
    "\n",
    "# 将 NumPy 数组转换为 PyTorch 张量\n",
    "X_train_nn = torch.tensor(X_train, dtype=torch.float32)\n",
    "y_train_nn = torch.tensor(Y_train, dtype=torch.float32).unsqueeze(-1)\n",
    "\n",
    "X_test_nn = torch.tensor(X_test, dtype=torch.float32)\n",
    "y_test_nn = torch.tensor(Y_test, dtype=torch.float32).unsqueeze(-1)\n",
    "print(y_train_nn.shape)\n",
    "\n",
    "class RegressionModel(nn.Module):\n",
    "    def __init__(self, input_size):\n",
    "        super(RegressionModel, self).__init__()\n",
    "        self.fc1 = nn.Linear(input_size, 768)\n",
    "        self.bn1 = nn.BatchNorm1d(768)\n",
    "        self.fc2 = nn.Linear(768, 512)\n",
    "        self.bn2 = nn.BatchNorm1d(512)\n",
    "        self.fc3 = nn.Linear(512, 256)\n",
    "        self.bn3 = nn.BatchNorm1d(256)\n",
    "        self.fc4 = nn.Linear(256, 128)\n",
    "        self.bn4 = nn.BatchNorm1d(128)\n",
    "        self.fc5 = nn.Linear(128, 64)\n",
    "        self.bn5 = nn.BatchNorm1d(64)\n",
    "        self.fc6 = nn.Linear(64, 32)\n",
    "        self.fc7 = nn.Linear(32, 1)\n",
    "\n",
    "    def forward(self, x):\n",
    "        x = F.leaky_relu(self.bn1(self.fc1(x)))\n",
    "        x = F.leaky_relu(self.bn2(self.fc2(x)))\n",
    "        x = F.leaky_relu(self.bn3(self.fc3(x)))\n",
    "        x = F.leaky_relu(self.bn4(self.fc4(x)))\n",
    "        x = F.leaky_relu(self.bn5(self.fc5(x)))\n",
    "        x = self.fc6(x)  # 不加激活函数\n",
    "        x = self.fc7(x)  # 最后一层直接输出\n",
    "        return x\n",
    "\n",
    "def train(model, criterion, optimizer, X, y, epochs=100, batch_size=8):\n",
    "    model.train()\n",
    "    dataset = torch.utils.data.TensorDataset(X, y)\n",
    "    dataloader = torch.utils.data.DataLoader(dataset, batch_size=batch_size, shuffle=True)\n",
    "\n",
    "    for epoch in range(epochs):\n",
    "        for inputs, targets in dataloader:\n",
    "            optimizer.zero_grad()  # 清空梯度\n",
    "            outputs = model(inputs)  # 前向传播\n",
    "            loss = criterion(outputs, targets)  # 计算损失\n",
    "            loss.backward()  # 反向传播\n",
    "            optimizer.step()  # 更新参数\n",
    "\n",
    "def evaluate(model, X, y):\n",
    "    model.eval()  # 切换到评估模式\n",
    "    with torch.no_grad():\n",
    "        predictions = model(X)\n",
    "        \n",
    "        mse = nn.MSELoss()(predictions, y)  # 计算均方误差\n",
    "        rmse = torch.sqrt(mse)  # 计算均方根误差\n",
    "        \n",
    "        # 计算 R²\n",
    "        y_mean = y.mean()  # 计算目标值的均值\n",
    "        ss_tot = ((y - y_mean) ** 2).sum()  # 总平方和\n",
    "        ss_res = ((y - predictions) ** 2).sum()  # 残差平方和\n",
    "        r_squared = 1 - (ss_res / ss_tot)  # 计算 R²\n",
    "        \n",
    "        return rmse.item(), r_squared.item()\n",
    "\n",
    "\n",
    "# 使用示例\n",
    "input_size = 14\n",
    "model = RegressionModel(input_size)\n",
    "\n",
    "# 示例数据生成\n",
    "# X_train = torch.rand(400, input_size).float()  # 随机生成训练特征\n",
    "# y_train = (torch.rand(400, 1) * 100000).float()  # 随机生成目标值（磁芯损耗）\n",
    "\n",
    "# 损失函数和优化器\n",
    "criterion = nn.SmoothL1Loss()\n",
    "optimizer = optim.Adam(model.parameters(), lr=1)\n",
    "\n",
    "print(X_train.shape, type(X_train))\n",
    "\n",
    "# 训练模型\n",
    "train(model, criterion, optimizer, X_train_nn, y_train_nn, epochs=100)\n",
    "\n",
    "# 评估模型\n",
    "# 在测试集上评估模型\n",
    "rmse, r_squared = evaluate(model, X_test_nn, y_test_nn)\n",
    "print(f'Test RMSE: {rmse}, R²: {r_squared}')\n",
    "\n"
   ]
  },
  {
   "cell_type": "code",
   "execution_count": 142,
   "metadata": {},
   "outputs": [],
   "source": [
    "# results2\n"
   ]
  },
  {
   "cell_type": "code",
   "execution_count": 143,
   "metadata": {},
   "outputs": [],
   "source": [
    "# # 将负数转换为正数\n",
    "# arr_positive = np.abs(results2)\n",
    "\n",
    "# print(arr_positive)\n",
    "\n"
   ]
  },
  {
   "cell_type": "code",
   "execution_count": 144,
   "metadata": {},
   "outputs": [],
   "source": [
    "# 写入附件4 第二列\n",
    "# import pandas as pd\n",
    "# df = pd.read_excel('附件四（Excel表）.xlsx')\n",
    "\n",
    "# # 将 output 列表转换为 DataFrame\n",
    "# output_df = pd.DataFrame(arr_positive, columns=['Values'])\n",
    "\n",
    "# # 将输出写入 DataFrame 的第二列\n",
    "# df.iloc[:len(arr_positive), 2] = output_df['Values']\n",
    "\n",
    "# # 将更新后的 DataFrame 保存回 Excel\n",
    "# df.to_excel('附件四（Excel表）.xlsx', index=False)"
   ]
  }
 ],
 "metadata": {
  "kernelspec": {
   "display_name": "study",
   "language": "python",
   "name": "python3"
  },
  "language_info": {
   "codemirror_mode": {
    "name": "ipython",
    "version": 3
   },
   "file_extension": ".py",
   "mimetype": "text/x-python",
   "name": "python",
   "nbconvert_exporter": "python",
   "pygments_lexer": "ipython3",
   "version": "3.9.19"
  }
 },
 "nbformat": 4,
 "nbformat_minor": 2
}
