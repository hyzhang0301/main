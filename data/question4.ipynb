{
 "cells": [
  {
   "cell_type": "code",
   "execution_count": 5,
   "metadata": {},
   "outputs": [],
   "source": [
    "import numpy as np\n",
    "from utils import read_column_from_excel, get_onehot_labels, get_columns, \\\n",
    "                  MultiLinearRegression, PolynomialRegression, \\\n",
    "                  get_mean, get_std, max, min, peak_to_peak\n",
    "                  \n",
    "                  "
   ]
  },
  {
   "cell_type": "code",
   "execution_count": 6,
   "metadata": {},
   "outputs": [
    {
     "data": {
      "text/html": [
       "<div>\n",
       "<style scoped>\n",
       "    .dataframe tbody tr th:only-of-type {\n",
       "        vertical-align: middle;\n",
       "    }\n",
       "\n",
       "    .dataframe tbody tr th {\n",
       "        vertical-align: top;\n",
       "    }\n",
       "\n",
       "    .dataframe thead th {\n",
       "        text-align: right;\n",
       "    }\n",
       "</style>\n",
       "<table border=\"1\" class=\"dataframe\">\n",
       "  <thead>\n",
       "    <tr style=\"text-align: right;\">\n",
       "      <th></th>\n",
       "      <th>0（磁通密度B，T）</th>\n",
       "      <th>1</th>\n",
       "      <th>2</th>\n",
       "      <th>3</th>\n",
       "      <th>4</th>\n",
       "      <th>5</th>\n",
       "      <th>6</th>\n",
       "      <th>7</th>\n",
       "      <th>8</th>\n",
       "      <th>9</th>\n",
       "      <th>...</th>\n",
       "      <th>1014</th>\n",
       "      <th>1015</th>\n",
       "      <th>1016</th>\n",
       "      <th>1017</th>\n",
       "      <th>1018</th>\n",
       "      <th>1019</th>\n",
       "      <th>1020</th>\n",
       "      <th>1021</th>\n",
       "      <th>1022</th>\n",
       "      <th>1023</th>\n",
       "    </tr>\n",
       "  </thead>\n",
       "  <tbody>\n",
       "    <tr>\n",
       "      <th>0</th>\n",
       "      <td>0.000213</td>\n",
       "      <td>0.000389</td>\n",
       "      <td>0.000566</td>\n",
       "      <td>0.000743</td>\n",
       "      <td>0.000919</td>\n",
       "      <td>0.001096</td>\n",
       "      <td>0.001272</td>\n",
       "      <td>0.001448</td>\n",
       "      <td>0.001624</td>\n",
       "      <td>0.001800</td>\n",
       "      <td>...</td>\n",
       "      <td>-0.001551</td>\n",
       "      <td>-0.001374</td>\n",
       "      <td>-0.001198</td>\n",
       "      <td>-0.001022</td>\n",
       "      <td>-0.000846</td>\n",
       "      <td>-0.000669</td>\n",
       "      <td>-0.000492</td>\n",
       "      <td>-0.000316</td>\n",
       "      <td>-0.000140</td>\n",
       "      <td>0.000036</td>\n",
       "    </tr>\n",
       "    <tr>\n",
       "      <th>1</th>\n",
       "      <td>-0.000551</td>\n",
       "      <td>-0.000358</td>\n",
       "      <td>-0.000165</td>\n",
       "      <td>0.000028</td>\n",
       "      <td>0.000221</td>\n",
       "      <td>0.000413</td>\n",
       "      <td>0.000605</td>\n",
       "      <td>0.000798</td>\n",
       "      <td>0.000991</td>\n",
       "      <td>0.001183</td>\n",
       "      <td>...</td>\n",
       "      <td>-0.002476</td>\n",
       "      <td>-0.002284</td>\n",
       "      <td>-0.002091</td>\n",
       "      <td>-0.001899</td>\n",
       "      <td>-0.001707</td>\n",
       "      <td>-0.001515</td>\n",
       "      <td>-0.001322</td>\n",
       "      <td>-0.001129</td>\n",
       "      <td>-0.000937</td>\n",
       "      <td>-0.000744</td>\n",
       "    </tr>\n",
       "    <tr>\n",
       "      <th>2</th>\n",
       "      <td>-0.003780</td>\n",
       "      <td>-0.003564</td>\n",
       "      <td>-0.003349</td>\n",
       "      <td>-0.003134</td>\n",
       "      <td>-0.002919</td>\n",
       "      <td>-0.002704</td>\n",
       "      <td>-0.002488</td>\n",
       "      <td>-0.002273</td>\n",
       "      <td>-0.002057</td>\n",
       "      <td>-0.001841</td>\n",
       "      <td>...</td>\n",
       "      <td>-0.005927</td>\n",
       "      <td>-0.005713</td>\n",
       "      <td>-0.005499</td>\n",
       "      <td>-0.005285</td>\n",
       "      <td>-0.005070</td>\n",
       "      <td>-0.004855</td>\n",
       "      <td>-0.004640</td>\n",
       "      <td>-0.004425</td>\n",
       "      <td>-0.004210</td>\n",
       "      <td>-0.003995</td>\n",
       "    </tr>\n",
       "    <tr>\n",
       "      <th>3</th>\n",
       "      <td>-0.000511</td>\n",
       "      <td>-0.000267</td>\n",
       "      <td>-0.000023</td>\n",
       "      <td>0.000222</td>\n",
       "      <td>0.000466</td>\n",
       "      <td>0.000711</td>\n",
       "      <td>0.000955</td>\n",
       "      <td>0.001199</td>\n",
       "      <td>0.001443</td>\n",
       "      <td>0.001687</td>\n",
       "      <td>...</td>\n",
       "      <td>-0.002950</td>\n",
       "      <td>-0.002707</td>\n",
       "      <td>-0.002463</td>\n",
       "      <td>-0.002220</td>\n",
       "      <td>-0.001976</td>\n",
       "      <td>-0.001732</td>\n",
       "      <td>-0.001488</td>\n",
       "      <td>-0.001244</td>\n",
       "      <td>-0.001000</td>\n",
       "      <td>-0.000756</td>\n",
       "    </tr>\n",
       "    <tr>\n",
       "      <th>4</th>\n",
       "      <td>0.000458</td>\n",
       "      <td>0.000732</td>\n",
       "      <td>0.001007</td>\n",
       "      <td>0.001281</td>\n",
       "      <td>0.001555</td>\n",
       "      <td>0.001830</td>\n",
       "      <td>0.002104</td>\n",
       "      <td>0.002378</td>\n",
       "      <td>0.002653</td>\n",
       "      <td>0.002927</td>\n",
       "      <td>...</td>\n",
       "      <td>-0.002290</td>\n",
       "      <td>-0.002016</td>\n",
       "      <td>-0.001741</td>\n",
       "      <td>-0.001466</td>\n",
       "      <td>-0.001192</td>\n",
       "      <td>-0.000917</td>\n",
       "      <td>-0.000642</td>\n",
       "      <td>-0.000367</td>\n",
       "      <td>-0.000092</td>\n",
       "      <td>0.000183</td>\n",
       "    </tr>\n",
       "    <tr>\n",
       "      <th>...</th>\n",
       "      <td>...</td>\n",
       "      <td>...</td>\n",
       "      <td>...</td>\n",
       "      <td>...</td>\n",
       "      <td>...</td>\n",
       "      <td>...</td>\n",
       "      <td>...</td>\n",
       "      <td>...</td>\n",
       "      <td>...</td>\n",
       "      <td>...</td>\n",
       "      <td>...</td>\n",
       "      <td>...</td>\n",
       "      <td>...</td>\n",
       "      <td>...</td>\n",
       "      <td>...</td>\n",
       "      <td>...</td>\n",
       "      <td>...</td>\n",
       "      <td>...</td>\n",
       "      <td>...</td>\n",
       "      <td>...</td>\n",
       "      <td>...</td>\n",
       "    </tr>\n",
       "    <tr>\n",
       "      <th>3395</th>\n",
       "      <td>-0.014217</td>\n",
       "      <td>-0.013898</td>\n",
       "      <td>-0.013582</td>\n",
       "      <td>-0.013266</td>\n",
       "      <td>-0.012951</td>\n",
       "      <td>-0.012634</td>\n",
       "      <td>-0.012318</td>\n",
       "      <td>-0.012005</td>\n",
       "      <td>-0.011694</td>\n",
       "      <td>-0.011383</td>\n",
       "      <td>...</td>\n",
       "      <td>-0.016320</td>\n",
       "      <td>-0.016200</td>\n",
       "      <td>-0.016076</td>\n",
       "      <td>-0.015945</td>\n",
       "      <td>-0.015797</td>\n",
       "      <td>-0.015620</td>\n",
       "      <td>-0.015403</td>\n",
       "      <td>-0.015143</td>\n",
       "      <td>-0.014849</td>\n",
       "      <td>-0.014537</td>\n",
       "    </tr>\n",
       "    <tr>\n",
       "      <th>3396</th>\n",
       "      <td>-0.017910</td>\n",
       "      <td>-0.017508</td>\n",
       "      <td>-0.017108</td>\n",
       "      <td>-0.016711</td>\n",
       "      <td>-0.016312</td>\n",
       "      <td>-0.015912</td>\n",
       "      <td>-0.015514</td>\n",
       "      <td>-0.015119</td>\n",
       "      <td>-0.014727</td>\n",
       "      <td>-0.014335</td>\n",
       "      <td>...</td>\n",
       "      <td>-0.020542</td>\n",
       "      <td>-0.020390</td>\n",
       "      <td>-0.020234</td>\n",
       "      <td>-0.020069</td>\n",
       "      <td>-0.019883</td>\n",
       "      <td>-0.019663</td>\n",
       "      <td>-0.019394</td>\n",
       "      <td>-0.019070</td>\n",
       "      <td>-0.018703</td>\n",
       "      <td>-0.018312</td>\n",
       "    </tr>\n",
       "    <tr>\n",
       "      <th>3397</th>\n",
       "      <td>-0.020028</td>\n",
       "      <td>-0.019578</td>\n",
       "      <td>-0.019130</td>\n",
       "      <td>-0.018684</td>\n",
       "      <td>-0.018237</td>\n",
       "      <td>-0.017790</td>\n",
       "      <td>-0.017343</td>\n",
       "      <td>-0.016900</td>\n",
       "      <td>-0.016460</td>\n",
       "      <td>-0.016019</td>\n",
       "      <td>...</td>\n",
       "      <td>-0.023021</td>\n",
       "      <td>-0.022852</td>\n",
       "      <td>-0.022679</td>\n",
       "      <td>-0.022491</td>\n",
       "      <td>-0.022278</td>\n",
       "      <td>-0.022022</td>\n",
       "      <td>-0.021709</td>\n",
       "      <td>-0.021337</td>\n",
       "      <td>-0.020920</td>\n",
       "      <td>-0.020478</td>\n",
       "    </tr>\n",
       "    <tr>\n",
       "      <th>3398</th>\n",
       "      <td>-0.027652</td>\n",
       "      <td>-0.027021</td>\n",
       "      <td>-0.026392</td>\n",
       "      <td>-0.025764</td>\n",
       "      <td>-0.025138</td>\n",
       "      <td>-0.024513</td>\n",
       "      <td>-0.023888</td>\n",
       "      <td>-0.023266</td>\n",
       "      <td>-0.022644</td>\n",
       "      <td>-0.022025</td>\n",
       "      <td>...</td>\n",
       "      <td>-0.032188</td>\n",
       "      <td>-0.031942</td>\n",
       "      <td>-0.031679</td>\n",
       "      <td>-0.031381</td>\n",
       "      <td>-0.031029</td>\n",
       "      <td>-0.030602</td>\n",
       "      <td>-0.030094</td>\n",
       "      <td>-0.029522</td>\n",
       "      <td>-0.028912</td>\n",
       "      <td>-0.028285</td>\n",
       "    </tr>\n",
       "    <tr>\n",
       "      <th>3399</th>\n",
       "      <td>-0.030905</td>\n",
       "      <td>-0.030196</td>\n",
       "      <td>-0.029490</td>\n",
       "      <td>-0.028785</td>\n",
       "      <td>-0.028082</td>\n",
       "      <td>-0.027380</td>\n",
       "      <td>-0.026679</td>\n",
       "      <td>-0.025981</td>\n",
       "      <td>-0.025284</td>\n",
       "      <td>-0.024589</td>\n",
       "      <td>...</td>\n",
       "      <td>-0.036009</td>\n",
       "      <td>-0.035732</td>\n",
       "      <td>-0.035434</td>\n",
       "      <td>-0.035096</td>\n",
       "      <td>-0.034697</td>\n",
       "      <td>-0.034213</td>\n",
       "      <td>-0.033641</td>\n",
       "      <td>-0.032999</td>\n",
       "      <td>-0.032315</td>\n",
       "      <td>-0.031613</td>\n",
       "    </tr>\n",
       "  </tbody>\n",
       "</table>\n",
       "<p>3400 rows × 1024 columns</p>\n",
       "</div>"
      ],
      "text/plain": [
       "      0（磁通密度B，T）         1         2         3         4         5         6  \\\n",
       "0       0.000213  0.000389  0.000566  0.000743  0.000919  0.001096  0.001272   \n",
       "1      -0.000551 -0.000358 -0.000165  0.000028  0.000221  0.000413  0.000605   \n",
       "2      -0.003780 -0.003564 -0.003349 -0.003134 -0.002919 -0.002704 -0.002488   \n",
       "3      -0.000511 -0.000267 -0.000023  0.000222  0.000466  0.000711  0.000955   \n",
       "4       0.000458  0.000732  0.001007  0.001281  0.001555  0.001830  0.002104   \n",
       "...          ...       ...       ...       ...       ...       ...       ...   \n",
       "3395   -0.014217 -0.013898 -0.013582 -0.013266 -0.012951 -0.012634 -0.012318   \n",
       "3396   -0.017910 -0.017508 -0.017108 -0.016711 -0.016312 -0.015912 -0.015514   \n",
       "3397   -0.020028 -0.019578 -0.019130 -0.018684 -0.018237 -0.017790 -0.017343   \n",
       "3398   -0.027652 -0.027021 -0.026392 -0.025764 -0.025138 -0.024513 -0.023888   \n",
       "3399   -0.030905 -0.030196 -0.029490 -0.028785 -0.028082 -0.027380 -0.026679   \n",
       "\n",
       "             7         8         9  ...      1014      1015      1016  \\\n",
       "0     0.001448  0.001624  0.001800  ... -0.001551 -0.001374 -0.001198   \n",
       "1     0.000798  0.000991  0.001183  ... -0.002476 -0.002284 -0.002091   \n",
       "2    -0.002273 -0.002057 -0.001841  ... -0.005927 -0.005713 -0.005499   \n",
       "3     0.001199  0.001443  0.001687  ... -0.002950 -0.002707 -0.002463   \n",
       "4     0.002378  0.002653  0.002927  ... -0.002290 -0.002016 -0.001741   \n",
       "...        ...       ...       ...  ...       ...       ...       ...   \n",
       "3395 -0.012005 -0.011694 -0.011383  ... -0.016320 -0.016200 -0.016076   \n",
       "3396 -0.015119 -0.014727 -0.014335  ... -0.020542 -0.020390 -0.020234   \n",
       "3397 -0.016900 -0.016460 -0.016019  ... -0.023021 -0.022852 -0.022679   \n",
       "3398 -0.023266 -0.022644 -0.022025  ... -0.032188 -0.031942 -0.031679   \n",
       "3399 -0.025981 -0.025284 -0.024589  ... -0.036009 -0.035732 -0.035434   \n",
       "\n",
       "          1017      1018      1019      1020      1021      1022      1023  \n",
       "0    -0.001022 -0.000846 -0.000669 -0.000492 -0.000316 -0.000140  0.000036  \n",
       "1    -0.001899 -0.001707 -0.001515 -0.001322 -0.001129 -0.000937 -0.000744  \n",
       "2    -0.005285 -0.005070 -0.004855 -0.004640 -0.004425 -0.004210 -0.003995  \n",
       "3    -0.002220 -0.001976 -0.001732 -0.001488 -0.001244 -0.001000 -0.000756  \n",
       "4    -0.001466 -0.001192 -0.000917 -0.000642 -0.000367 -0.000092  0.000183  \n",
       "...        ...       ...       ...       ...       ...       ...       ...  \n",
       "3395 -0.015945 -0.015797 -0.015620 -0.015403 -0.015143 -0.014849 -0.014537  \n",
       "3396 -0.020069 -0.019883 -0.019663 -0.019394 -0.019070 -0.018703 -0.018312  \n",
       "3397 -0.022491 -0.022278 -0.022022 -0.021709 -0.021337 -0.020920 -0.020478  \n",
       "3398 -0.031381 -0.031029 -0.030602 -0.030094 -0.029522 -0.028912 -0.028285  \n",
       "3399 -0.035096 -0.034697 -0.034213 -0.033641 -0.032999 -0.032315 -0.031613  \n",
       "\n",
       "[3400 rows x 1024 columns]"
      ]
     },
     "execution_count": 6,
     "metadata": {},
     "output_type": "execute_result"
    }
   ],
   "source": [
    "# 获取磁通密度\n",
    "(\n",
    "    selected_columns1, \n",
    "    selected_columns2, \n",
    "    selected_columns3, \n",
    "    selected_columns4 \n",
    " ) = get_columns('附件一（训练集）.xlsx', 4)\n",
    "\n",
    "# 从第四列开始向后（下标从0开始）\n",
    "selected_columns1"
   ]
  },
  {
   "cell_type": "code",
   "execution_count": 7,
   "metadata": {},
   "outputs": [
    {
     "data": {
      "text/plain": [
       "array([0.05180628, 0.06381334, 0.07107428, ..., 0.0968109 , 0.10876936,\n",
       "       0.13690633])"
      ]
     },
     "execution_count": 7,
     "metadata": {},
     "output_type": "execute_result"
    }
   ],
   "source": [
    "# 处理磁通密度特征\n",
    "mean1 = get_mean(selected_columns1)\n",
    "mean2 = get_mean(selected_columns2)\n",
    "mean3 = get_mean(selected_columns3)\n",
    "mean4 = get_mean(selected_columns4)\n",
    "\n",
    "std_value1 = get_std(selected_columns1)\n",
    "std_value2 = get_std(selected_columns2)\n",
    "std_value3 = get_std(selected_columns3)\n",
    "std_value4 = get_std(selected_columns4)\n",
    "\n",
    "max1 = max(selected_columns1)\n",
    "max2 = max(selected_columns2)\n",
    "max3 = max(selected_columns3)\n",
    "max4 = max(selected_columns4)\n",
    "\n",
    "min1 = min(selected_columns1)\n",
    "min2 = min(selected_columns2)\n",
    "min3 = min(selected_columns3)\n",
    "min4 = min(selected_columns4)\n",
    "\n",
    "peak1 = peak_to_peak(selected_columns1)\n",
    "peak2 = peak_to_peak(selected_columns2)\n",
    "peak3 = peak_to_peak(selected_columns3)\n",
    "peak4 = peak_to_peak(selected_columns4)\n",
    "\n",
    "peak4"
   ]
  },
  {
   "cell_type": "code",
   "execution_count": 9,
   "metadata": {},
   "outputs": [],
   "source": [
    "temperature1 = read_column_from_excel('附件一（训练集）.xlsx', column_name=\"温度，oC\", sheet_name=\"材料1\")\n",
    "wave_shape1 = get_onehot_labels('附件一（训练集）.xlsx', column_name=\"励磁波形\", name=\"材料1\")\n",
    "material1_hz = read_column_from_excel('附件一（训练集）.xlsx', column_name=\"频率，Hz\", sheet_name=\"材料1\")\n",
    "\n",
    "temperature2 = read_column_from_excel('附件一（训练集）.xlsx', column_name=\"温度，oC\", sheet_name=\"材料2\")\n",
    "wave_shape2 = get_onehot_labels('附件一（训练集）.xlsx', column_name=\"励磁波形\", name=\"材料2\")\n",
    "material2_hz = read_column_from_excel('附件一（训练集）.xlsx', column_name=\"频率，Hz\", sheet_name=\"材料2\")\n",
    "\n",
    "temperature3 = read_column_from_excel('附件一（训练集）.xlsx', column_name=\"温度，oC\", sheet_name=\"材料3\")\n",
    "wave_shape3 = get_onehot_labels('附件一（训练集）.xlsx', column_name=\"励磁波形\", name=\"材料3\")\n",
    "material3_hz = read_column_from_excel('附件一（训练集）.xlsx', column_name=\"频率，Hz\", sheet_name=\"材料3\")\n",
    "\n",
    "temperature4 = read_column_from_excel('附件一（训练集）.xlsx', column_name=\"温度，oC\", sheet_name=\"材料4\")\n",
    "wave_shape4 = get_onehot_labels('附件一（训练集）.xlsx', column_name=\"励磁波形\", name=\"材料4\")\n",
    "material4_hz = read_column_from_excel('附件一（训练集）.xlsx', column_name=\"频率，Hz\", sheet_name=\"材料4\")\n"
   ]
  },
  {
   "cell_type": "code",
   "execution_count": 10,
   "metadata": {},
   "outputs": [
    {
     "data": {
      "text/plain": [
       "0        50030\n",
       "1        50020\n",
       "2        50020\n",
       "3        50020\n",
       "4        50030\n",
       "         ...  \n",
       "3395    316460\n",
       "3396    316460\n",
       "3397    316460\n",
       "3398    316460\n",
       "3399    316460\n",
       "Name: 频率，Hz, Length: 3400, dtype: int64"
      ]
     },
     "execution_count": 10,
     "metadata": {},
     "output_type": "execute_result"
    }
   ],
   "source": [
    "material1_hz"
   ]
  },
  {
   "cell_type": "code",
   "execution_count": 11,
   "metadata": {},
   "outputs": [
    {
     "name": "stdout",
     "output_type": "stream",
     "text": [
      "[[1. 0. 0. 0.]\n",
      " [1. 0. 0. 0.]\n",
      " [1. 0. 0. 0.]\n",
      " ...\n",
      " [1. 0. 0. 0.]\n",
      " [1. 0. 0. 0.]\n",
      " [1. 0. 0. 0.]]\n"
     ]
    },
    {
     "data": {
      "text/plain": [
       "(12400, 14)"
      ]
     },
     "execution_count": 11,
     "metadata": {},
     "output_type": "execute_result"
    }
   ],
   "source": [
    "# 创建四个 one-hot 矩阵 以表示材料特征\n",
    "one_hot_matrix1 = np.zeros((3400, 4))       # 材料1 [1, 0, 0, 0]\n",
    "one_hot_matrix1[:, 0] = 1  \n",
    "\n",
    "one_hot_matrix2 = np.zeros((3000, 4))       # 材料2 [0, 1, 0, 0]\n",
    "one_hot_matrix2[:, 1] = 1  \n",
    "\n",
    "one_hot_matrix3 = np.zeros((3200, 4))\n",
    "one_hot_matrix3[:, 2] = 1  \n",
    "\n",
    "one_hot_matrix4 = np.zeros((2800, 4))\n",
    "one_hot_matrix4[:, 3] = 1  \n",
    "\n",
    "print(one_hot_matrix1)\n",
    "# 拼接 \n",
    "x1 = np.column_stack((temperature1, wave_shape1, one_hot_matrix1, material1_hz, max1, min1, std_value1, peak1, mean1))\n",
    "x2 = np.column_stack((temperature2, wave_shape2, one_hot_matrix2, material2_hz, max2, min2, std_value2, peak2, mean2))\n",
    "x3 = np.column_stack((temperature3, wave_shape3, one_hot_matrix3, material3_hz, max3, min3, std_value3, peak3, mean3))\n",
    "x4 = np.column_stack((temperature4, wave_shape4, one_hot_matrix4, material4_hz, max4, min4, std_value4, peak4, mean4))\n",
    "\n",
    "# 拼接输入矩阵\n",
    "X_combined = np.vstack((x1, x2, x3, x4))\n",
    "X_combined.shape"
   ]
  },
  {
   "cell_type": "markdown",
   "metadata": {},
   "source": [
    "**拼接标签数据**"
   ]
  },
  {
   "cell_type": "code",
   "execution_count": 12,
   "metadata": {},
   "outputs": [
    {
     "data": {
      "text/plain": [
       "(2800,)"
      ]
     },
     "execution_count": 12,
     "metadata": {},
     "output_type": "execute_result"
    }
   ],
   "source": [
    "y1 = read_column_from_excel('附件一（训练集）.xlsx', column_name='磁芯损耗，w/m3', sheet_name='材料1')\n",
    "y2 = read_column_from_excel('附件一（训练集）.xlsx', column_name='磁芯损耗，w/m3', sheet_name='材料2')\n",
    "y3 = read_column_from_excel('附件一（训练集）.xlsx', column_name='磁芯损耗，w/m3', sheet_name='材料3')\n",
    "y4 = read_column_from_excel('附件一（训练集）.xlsx', column_name='磁芯损耗，w/m3', sheet_name='材料4')\n",
    "y4.shape"
   ]
  },
  {
   "cell_type": "code",
   "execution_count": 35,
   "metadata": {},
   "outputs": [
    {
     "data": {
      "text/plain": [
       "(12400,)"
      ]
     },
     "execution_count": 35,
     "metadata": {},
     "output_type": "execute_result"
    }
   ],
   "source": [
    "y_combined = np.concatenate((y1, y2, y3, y4))\n",
    "y_combined.shape"
   ]
  },
  {
   "cell_type": "markdown",
   "metadata": {},
   "source": [
    "### 训练"
   ]
  },
  {
   "cell_type": "markdown",
   "metadata": {},
   "source": [
    "1. **使用多元线性回归**"
   ]
  },
  {
   "cell_type": "code",
   "execution_count": 42,
   "metadata": {},
   "outputs": [
    {
     "name": "stdout",
     "output_type": "stream",
     "text": [
      "Model R² score: 0.6354522047500337\n"
     ]
    },
    {
     "data": {
      "text/plain": [
       "(12400,)"
      ]
     },
     "execution_count": 42,
     "metadata": {},
     "output_type": "execute_result"
    }
   ],
   "source": [
    "\n",
    "from sklearn.model_selection import train_test_split\n",
    "# 多元逻辑回归\n",
    "mlr = MultiLinearRegression()\n",
    "X = X_combined\n",
    "Y = y_combined\n",
    "\n",
    "X_train, X_test, Y_train, Y_test = train_test_split(X, Y, test_size=0.2, random_state=42)\n",
    "\n",
    "\n",
    "\n",
    "# 评估结果\n",
    "# 拟合\n",
    "mlr.fit(X_train, Y_train)\n",
    "# 评估\n",
    "score = mlr.score(X_test, Y_test)\n",
    "print(f\"Model R² score: {score}\")\n",
    "Y.shape"
   ]
  },
  {
   "cell_type": "markdown",
   "metadata": {},
   "source": [
    "2. **支持向量机回归**\n"
   ]
  },
  {
   "cell_type": "markdown",
   "metadata": {},
   "source": [
    "3. **神经网络**\n"
   ]
  },
  {
   "cell_type": "markdown",
   "metadata": {},
   "source": [
    "4. **多项式回归**"
   ]
  },
  {
   "cell_type": "code",
   "execution_count": 43,
   "metadata": {},
   "outputs": [
    {
     "name": "stdout",
     "output_type": "stream",
     "text": [
      "MSE: 7870773627.6498, R²: 0.9415\n"
     ]
    }
   ],
   "source": [
    "from utils import PolynomialRegression\n",
    "\n",
    "plR = PolynomialRegression()\n",
    "\n",
    "plR.fit(X_train, Y_train)\n",
    "mse, r2  = plR.evaluate(X_test, Y_test)\n",
    "\n",
    "# 打印结果\n",
    "print(f'MSE: {mse:.4f}, R²: {r2:.4f}')"
   ]
  },
  {
   "cell_type": "code",
   "execution_count": 44,
   "metadata": {},
   "outputs": [
    {
     "name": "stdout",
     "output_type": "stream",
     "text": [
      "Mean MSE: 8364928532.1001, Mean R²: 0.9409\n"
     ]
    }
   ],
   "source": [
    "import numpy as np\n",
    "from sklearn.model_selection import KFold\n",
    "from utils import PolynomialRegression\n",
    "\n",
    "# 初始化模型\n",
    "plR = PolynomialRegression()\n",
    "\n",
    "# 定义 KFold\n",
    "kf = KFold(n_splits=5, shuffle=True, random_state=42)  # 5 折交叉验证\n",
    "\n",
    "mse_list = []\n",
    "r2_list = []\n",
    "\n",
    "# 进行交叉验证\n",
    "for train_index, test_index in kf.split(X):\n",
    "    X_train, X_test = X[train_index], X[test_index]\n",
    "    Y_train, Y_test = Y[train_index], Y[test_index]\n",
    "    \n",
    "    plR.fit(X_train, Y_train)\n",
    "    mse, r2 = plR.evaluate(X_test, Y_test)\n",
    "    \n",
    "    mse_list.append(mse)\n",
    "    r2_list.append(r2)\n",
    "\n",
    "# 计算平均值\n",
    "mean_mse = np.mean(mse_list)\n",
    "mean_r2 = np.mean(r2_list)\n",
    "\n",
    "# 打印结果\n",
    "print(f'Mean MSE: {mean_mse:.4f}, Mean R²: {mean_r2:.4f}')\n"
   ]
  }
 ],
 "metadata": {
  "kernelspec": {
   "display_name": "study",
   "language": "python",
   "name": "python3"
  },
  "language_info": {
   "codemirror_mode": {
    "name": "ipython",
    "version": 3
   },
   "file_extension": ".py",
   "mimetype": "text/x-python",
   "name": "python",
   "nbconvert_exporter": "python",
   "pygments_lexer": "ipython3",
   "version": "3.9.19"
  }
 },
 "nbformat": 4,
 "nbformat_minor": 2
}
