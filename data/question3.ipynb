{
 "cells": [
  {
   "cell_type": "code",
   "execution_count": 94,
   "metadata": {},
   "outputs": [
    {
     "data": {
      "text/html": [
       "<div>\n",
       "<style scoped>\n",
       "    .dataframe tbody tr th:only-of-type {\n",
       "        vertical-align: middle;\n",
       "    }\n",
       "\n",
       "    .dataframe tbody tr th {\n",
       "        vertical-align: top;\n",
       "    }\n",
       "\n",
       "    .dataframe thead th {\n",
       "        text-align: right;\n",
       "    }\n",
       "</style>\n",
       "<table border=\"1\" class=\"dataframe\">\n",
       "  <thead>\n",
       "    <tr style=\"text-align: right;\">\n",
       "      <th></th>\n",
       "      <th>三角波</th>\n",
       "      <th>梯形波</th>\n",
       "      <th>正弦波</th>\n",
       "    </tr>\n",
       "  </thead>\n",
       "  <tbody>\n",
       "    <tr>\n",
       "      <th>0</th>\n",
       "      <td>False</td>\n",
       "      <td>False</td>\n",
       "      <td>True</td>\n",
       "    </tr>\n",
       "    <tr>\n",
       "      <th>1</th>\n",
       "      <td>False</td>\n",
       "      <td>False</td>\n",
       "      <td>True</td>\n",
       "    </tr>\n",
       "    <tr>\n",
       "      <th>2</th>\n",
       "      <td>False</td>\n",
       "      <td>False</td>\n",
       "      <td>True</td>\n",
       "    </tr>\n",
       "    <tr>\n",
       "      <th>3</th>\n",
       "      <td>False</td>\n",
       "      <td>False</td>\n",
       "      <td>True</td>\n",
       "    </tr>\n",
       "    <tr>\n",
       "      <th>4</th>\n",
       "      <td>False</td>\n",
       "      <td>False</td>\n",
       "      <td>True</td>\n",
       "    </tr>\n",
       "    <tr>\n",
       "      <th>...</th>\n",
       "      <td>...</td>\n",
       "      <td>...</td>\n",
       "      <td>...</td>\n",
       "    </tr>\n",
       "    <tr>\n",
       "      <th>3395</th>\n",
       "      <td>False</td>\n",
       "      <td>True</td>\n",
       "      <td>False</td>\n",
       "    </tr>\n",
       "    <tr>\n",
       "      <th>3396</th>\n",
       "      <td>False</td>\n",
       "      <td>True</td>\n",
       "      <td>False</td>\n",
       "    </tr>\n",
       "    <tr>\n",
       "      <th>3397</th>\n",
       "      <td>False</td>\n",
       "      <td>True</td>\n",
       "      <td>False</td>\n",
       "    </tr>\n",
       "    <tr>\n",
       "      <th>3398</th>\n",
       "      <td>False</td>\n",
       "      <td>True</td>\n",
       "      <td>False</td>\n",
       "    </tr>\n",
       "    <tr>\n",
       "      <th>3399</th>\n",
       "      <td>False</td>\n",
       "      <td>True</td>\n",
       "      <td>False</td>\n",
       "    </tr>\n",
       "  </tbody>\n",
       "</table>\n",
       "<p>3400 rows × 3 columns</p>\n",
       "</div>"
      ],
      "text/plain": [
       "        三角波    梯形波    正弦波\n",
       "0     False  False   True\n",
       "1     False  False   True\n",
       "2     False  False   True\n",
       "3     False  False   True\n",
       "4     False  False   True\n",
       "...     ...    ...    ...\n",
       "3395  False   True  False\n",
       "3396  False   True  False\n",
       "3397  False   True  False\n",
       "3398  False   True  False\n",
       "3399  False   True  False\n",
       "\n",
       "[3400 rows x 3 columns]"
      ]
     },
     "execution_count": 94,
     "metadata": {},
     "output_type": "execute_result"
    }
   ],
   "source": [
    "from utils import read_column_from_excel, MultiLinearRegression, get_onehot_labels, PolynomialRegression\n",
    "\n",
    "temperature1 = read_column_from_excel('附件一（训练集）.xlsx', column_name=\"温度，oC\", sheet_name=\"材料1\")\n",
    "wave_shape1 = get_onehot_labels('附件一（训练集）.xlsx', column_name=\"励磁波形\", name=\"材料1\")\n",
    "\n",
    "\n",
    "temperature2 = read_column_from_excel('附件一（训练集）.xlsx', column_name=\"温度，oC\", sheet_name=\"材料2\")\n",
    "wave_shape2 = get_onehot_labels('附件一（训练集）.xlsx', column_name=\"励磁波形\", name=\"材料2\")\n",
    "\n",
    "temperature3 = read_column_from_excel('附件一（训练集）.xlsx', column_name=\"温度，oC\", sheet_name=\"材料3\")\n",
    "wave_shape3 = get_onehot_labels('附件一（训练集）.xlsx', column_name=\"励磁波形\", name=\"材料3\")\n",
    "\n",
    "temperature4 = read_column_from_excel('附件一（训练集）.xlsx', column_name=\"温度，oC\", sheet_name=\"材料4\")\n",
    "wave_shape4 = get_onehot_labels('附件一（训练集）.xlsx', column_name=\"励磁波形\", name=\"材料4\")\n",
    "\n",
    "wave_shape1"
   ]
  },
  {
   "cell_type": "code",
   "execution_count": 95,
   "metadata": {},
   "outputs": [
    {
     "data": {
      "text/plain": [
       "(2800, 3)"
      ]
     },
     "execution_count": 95,
     "metadata": {},
     "output_type": "execute_result"
    }
   ],
   "source": [
    "wave_shape4.shape"
   ]
  },
  {
   "cell_type": "code",
   "execution_count": 96,
   "metadata": {},
   "outputs": [
    {
     "name": "stdout",
     "output_type": "stream",
     "text": [
      "[[1. 0. 0. 0.]\n",
      " [1. 0. 0. 0.]\n",
      " [1. 0. 0. 0.]\n",
      " ...\n",
      " [1. 0. 0. 0.]\n",
      " [1. 0. 0. 0.]\n",
      " [1. 0. 0. 0.]]\n"
     ]
    },
    {
     "data": {
      "text/plain": [
       "(2800, 8)"
      ]
     },
     "execution_count": 96,
     "metadata": {},
     "output_type": "execute_result"
    }
   ],
   "source": [
    "import numpy as np\n",
    "\n",
    "# 创建四个 (3400, 4) 的 one-hot 矩阵\n",
    "one_hot_matrix1 = np.zeros((3400, 4))\n",
    "one_hot_matrix1[:, 0] = 1  \n",
    "\n",
    "one_hot_matrix2 = np.zeros((3000, 4))\n",
    "one_hot_matrix2[:, 1] = 1  \n",
    "\n",
    "one_hot_matrix3 = np.zeros((3200, 4))\n",
    "one_hot_matrix3[:, 2] = 1  \n",
    "\n",
    "one_hot_matrix4 = np.zeros((2800, 4))\n",
    "one_hot_matrix4[:, 3] = 1  \n",
    "\n",
    "print(one_hot_matrix1)\n",
    "# 拼接 \n",
    "x1 = np.column_stack((temperature1, wave_shape1, one_hot_matrix1))\n",
    "x2 = np.column_stack((temperature2, wave_shape2, one_hot_matrix2))\n",
    "x3 = np.column_stack((temperature3, wave_shape3, one_hot_matrix3))\n",
    "x4 = np.column_stack((temperature4, wave_shape4, one_hot_matrix4))\n",
    "\n",
    "x4.shape"
   ]
  },
  {
   "cell_type": "markdown",
   "metadata": {},
   "source": [
    "**输入变量拼接**"
   ]
  },
  {
   "cell_type": "code",
   "execution_count": 97,
   "metadata": {},
   "outputs": [
    {
     "data": {
      "text/plain": [
       "(12400, 8)"
      ]
     },
     "execution_count": 97,
     "metadata": {},
     "output_type": "execute_result"
    }
   ],
   "source": [
    "combined = np.vstack((x1, x2, x3, x4))\n",
    "combined.shape"
   ]
  },
  {
   "cell_type": "markdown",
   "metadata": {},
   "source": [
    "**拼接标签数据**"
   ]
  },
  {
   "cell_type": "code",
   "execution_count": 98,
   "metadata": {},
   "outputs": [
    {
     "data": {
      "text/plain": [
       "0         2525.795337\n",
       "1         4427.524958\n",
       "2         5780.576037\n",
       "3        10983.412600\n",
       "4        14526.685680\n",
       "            ...      \n",
       "2795     20604.900210\n",
       "2796     26504.284280\n",
       "2797     46232.491530\n",
       "2798     61458.085900\n",
       "2799    107581.189300\n",
       "Name: 磁芯损耗，w/m3, Length: 2800, dtype: float64"
      ]
     },
     "execution_count": 98,
     "metadata": {},
     "output_type": "execute_result"
    }
   ],
   "source": [
    "y1 = read_column_from_excel('附件一（训练集）.xlsx', column_name='磁芯损耗，w/m3', sheet_name='材料1')\n",
    "y2 = read_column_from_excel('附件一（训练集）.xlsx', column_name='磁芯损耗，w/m3', sheet_name='材料2')\n",
    "y3 = read_column_from_excel('附件一（训练集）.xlsx', column_name='磁芯损耗，w/m3', sheet_name='材料3')\n",
    "y4 = read_column_from_excel('附件一（训练集）.xlsx', column_name='磁芯损耗，w/m3', sheet_name='材料4')\n",
    "y4"
   ]
  },
  {
   "cell_type": "code",
   "execution_count": 99,
   "metadata": {},
   "outputs": [
    {
     "data": {
      "text/plain": [
       "(2800,)"
      ]
     },
     "execution_count": 99,
     "metadata": {},
     "output_type": "execute_result"
    }
   ],
   "source": [
    "y4.shape"
   ]
  },
  {
   "cell_type": "code",
   "execution_count": 100,
   "metadata": {},
   "outputs": [
    {
     "data": {
      "text/plain": [
       "(12400,)"
      ]
     },
     "execution_count": 100,
     "metadata": {},
     "output_type": "execute_result"
    }
   ],
   "source": [
    "y_combined = np.concatenate((y1, y2, y3, y4))\n",
    "y_combined.shape"
   ]
  },
  {
   "cell_type": "markdown",
   "metadata": {},
   "source": [
    "**训练**"
   ]
  },
  {
   "cell_type": "code",
   "execution_count": 101,
   "metadata": {},
   "outputs": [],
   "source": [
    "\n",
    "from sklearn.model_selection import train_test_split\n",
    "# 多元逻辑回归\n",
    "mlr = MultiLinearRegression()\n",
    "X = combined\n",
    "Y = y_combined\n",
    "\n",
    "X_train, X_test, Y_train, Y_test = train_test_split(X, Y, test_size=0.2, random_state=42)"
   ]
  },
  {
   "cell_type": "code",
   "execution_count": 102,
   "metadata": {},
   "outputs": [
    {
     "data": {
      "text/plain": [
       "(12400, 8)"
      ]
     },
     "execution_count": 102,
     "metadata": {},
     "output_type": "execute_result"
    }
   ],
   "source": [
    "X.shape"
   ]
  },
  {
   "cell_type": "code",
   "execution_count": 103,
   "metadata": {},
   "outputs": [
    {
     "name": "stdout",
     "output_type": "stream",
     "text": [
      "Model R² score: 0.06229806687813377\n"
     ]
    }
   ],
   "source": [
    "# 拟合\n",
    "mlr.fit(X_train, Y_train)\n",
    "# 评估\n",
    "score = mlr.score(X_test, Y_test)\n",
    "print(f\"Model R² score: {score}\")"
   ]
  },
  {
   "cell_type": "code",
   "execution_count": 104,
   "metadata": {},
   "outputs": [
    {
     "name": "stdout",
     "output_type": "stream",
     "text": [
      "R² Score: 0.05818992851726035\n",
      "Mean Squared Error: 126709761013.04173\n"
     ]
    }
   ],
   "source": [
    "from utils import RandomForestRegressorModel\n",
    "\n",
    "# 创建模型实例\n",
    "rf_model = RandomForestRegressorModel(n_estimators=100, random_state=42)\n",
    "\n",
    "# 训练模型\n",
    "rf_model.train(X_train, Y_train)\n",
    "\n",
    "    # 进行预测\n",
    "predictions = rf_model.predict(X_test)\n",
    "\n",
    "# 评估模型\n",
    "r2, mse = rf_model.evaluate(Y_test, predictions)\n",
    "\n",
    "print(f\"R² Score: {r2}\")\n",
    "print(f\"Mean Squared Error: {mse}\")\n"
   ]
  },
  {
   "cell_type": "code",
   "execution_count": 105,
   "metadata": {},
   "outputs": [
    {
     "name": "stdout",
     "output_type": "stream",
     "text": [
      "Mean Squared Error: 126652932102.86847\n",
      "R² Score: 0.058612327230071926\n"
     ]
    }
   ],
   "source": [
    "# 创建多项式回归对象\n",
    "model = PolynomialRegression(degree=4)\n",
    "    \n",
    "# 训练模型\n",
    "model.fit(X_train, Y_train)\n",
    "\n",
    "# 评估模型\n",
    "mse, r2 = model.evaluate(X_test, Y_test)\n",
    "print(f'Mean Squared Error: {mse}')\n",
    "print(f'R² Score: {r2}')"
   ]
  },
  {
   "cell_type": "markdown",
   "metadata": {},
   "source": [
    "## 单因素\n",
    "1. 温度对磁芯损耗的影响"
   ]
  },
  {
   "cell_type": "code",
   "execution_count": 106,
   "metadata": {},
   "outputs": [
    {
     "name": "stdout",
     "output_type": "stream",
     "text": [
      "(12400, 8)\n",
      "[[25.  0.  0. ...  0.  0.  0.]\n",
      " [25.  0.  0. ...  0.  0.  0.]\n",
      " [25.  0.  0. ...  0.  0.  0.]\n",
      " ...\n",
      " [90.  0.  1. ...  0.  0.  1.]\n",
      " [90.  0.  1. ...  0.  0.  1.]\n",
      " [90.  0.  1. ...  0.  0.  1.]]\n",
      "[  1997.95525   2427.74983   3332.72576 ...  46232.49153  61458.0859\n",
      " 107581.1893 ]\n"
     ]
    },
    {
     "data": {
      "image/png": "[encoded data removed]",
      "text/plain": [
       "<Figure size 1000x600 with 1 Axes>"
      ]
     },
     "metadata": {},
     "output_type": "display_data"
    },
    {
     "data": {
      "image/png": "[encoded data removed]",
      "text/plain": [
       "<Figure size 1000x600 with 1 Axes>"
      ]
     },
     "metadata": {},
     "output_type": "display_data"
    }
   ],
   "source": [
    "# 温度与磁芯损耗\n",
    "print(X.shape)  # 第一列为温度\n",
    "print(X)\n",
    "print(Y)\n",
    "\n",
    "# 设置字体\n",
    "plt.rcParams['font.family'] = 'SimHei'  # 使用黑体字体\n",
    "plt.rcParams['axes.unicode_minus'] = False  # 解决负号显示问题\n",
    "\n",
    "\n",
    "# 绘图\n",
    "import matplotlib.pyplot as plt\n",
    "import seaborn as sns\n",
    "\n",
    "# 假设 X 是特征矩阵（NumPy 数组），Y 是目标变量（NumPy 数组或列表）\n",
    "temperature = X[:, 0]  # 获取第一列温度\n",
    "loss = Y  # 磁芯损耗\n",
    "\n",
    "# 绘制散点图\n",
    "plt.figure(figsize=(10, 6))\n",
    "sns.scatterplot(x=temperature, y=loss)\n",
    "plt.title('温度对磁芯损耗的影响')\n",
    "plt.xlabel('温度')\n",
    "plt.ylabel('磁芯损耗')\n",
    "plt.grid()\n",
    "plt.show()\n",
    "\n",
    "# 绘制箱形图\n",
    "plt.figure(figsize=(10, 6))\n",
    "sns.boxplot(x=temperature, y=loss)\n",
    "plt.title('温度对磁芯损耗的影响（箱型图）')\n",
    "plt.xlabel('温度 (°C)')\n",
    "plt.ylabel('磁芯损耗')\n",
    "plt.grid()\n",
    "plt.show()\n",
    "\n"
   ]
  },
  {
   "cell_type": "markdown",
   "metadata": {},
   "source": [
    "### 方差分析（温度->磁芯损耗）"
   ]
  },
  {
   "cell_type": "code",
   "execution_count": 107,
   "metadata": {},
   "outputs": [
    {
     "name": "stdout",
     "output_type": "stream",
     "text": [
      "                sum_sq       df          F        PR(>F)\n",
      "C(温度组)    7.513337e+12      3.0  17.755424  1.699619e-11\n",
      "Residual  1.748486e+15  12396.0        NaN           NaN\n"
     ]
    }
   ],
   "source": [
    "import pandas as pd\n",
    "import statsmodels.api as sm\n",
    "from statsmodels.formula.api import ols\n",
    "\n",
    "# 将温度转换为 DataFrame\n",
    "data = pd.DataFrame({'温度': temperature, '磁芯损耗': loss})\n",
    "\n",
    "# 将温度分组\n",
    "data['温度组'] = pd.cut(data['温度'], bins=[0, 25, 50, 75, 100], labels=['25', '50', '70', '90'])\n",
    "\n",
    "# 执行方差分析\n",
    "model = ols('磁芯损耗 ~ C(温度组)', data=data).fit()\n",
    "anova_table = sm.stats.anova_lm(model, typ=2)\n",
    "print(anova_table)\n"
   ]
  },
  {
   "cell_type": "markdown",
   "metadata": {},
   "source": [
    "\n",
    "\n",
    "### 结果解读\n",
    "\n",
    "1. **`sum_sq`（平方和）**：\n",
    "   - `C(温度组)` 的平方和为  \n",
    "7.51\n",
    "×\n",
    "10\n",
    "12\n",
    "7.51×10 \n",
    "12，表示温度组之间的变异性。\n",
    "   - `Residual`（残差）的平方和为 \\(1.75 \\times 10^{15}\\)，表示组内变异性。\n",
    "\n",
    "2. **`df`（自由度）**：\n",
    "   - `C(温度组)` 的自由度为 3，表示你有四个温度组（四个类别减一）。\n",
    "   - `Residual` 的自由度为 12396，表示样本总数减去组数。\n",
    "\n",
    "3. **`F` 值**：\n",
    "   - `F` 值为 17.76，表示组间变异性与组内变异性的比率，越大说明组间差异越明显。\n",
    "\n",
    "4. **`PR(>F)`（p 值）**：\n",
    "   - p 值为 1.70×10 \n",
    "−11\n",
    " ，远小于 0.05，表明温度组之间的差异是显著的。\n",
    "\n",
    "### 结论\n",
    "由于 p 值小于显著性水平（如 0.05），你可以拒绝原假设，认为不同温度组之间的磁芯损耗存在显著差异。这表明温度确实对磁芯损耗有影响。\n"
   ]
  },
  {
   "cell_type": "markdown",
   "metadata": {},
   "source": [
    "2. (波形)--->磁芯损耗的影响"
   ]
  },
  {
   "cell_type": "code",
   "execution_count": 149,
   "metadata": {},
   "outputs": [
    {
     "name": "stdout",
     "output_type": "stream",
     "text": [
      "(12400, 8)\n",
      "[1 1 1 ... 3 3 3]\n",
      "(12400,)\n"
     ]
    }
   ],
   "source": [
    "print(X.shape)\n",
    "wshape = X[:, 1:4]  # 获取波形\n",
    "loss = Y  # 磁芯损耗\n",
    "\n",
    "output = np.zeros(wshape.shape[0], dtype=int)\n",
    "\n",
    "# 创建一个条件来识别每种波形类型\n",
    "output[np.all(wshape == [1, 0, 0], axis=1)] = 2  # 对应 [0, 0, 1] 三角\n",
    "output[np.all(wshape == [0, 1, 0], axis=1)] = 3  # 对应 [0, 1, 0] 梯形\n",
    "output[np.all(wshape == [0, 0, 1], axis=1)] = 1  # 对应 [1, 0, 0] 方形\n",
    "\n",
    "\n",
    "print(output)\n",
    "print(output.shape)"
   ]
  },
  {
   "cell_type": "code",
   "execution_count": 110,
   "metadata": {},
   "outputs": [
    {
     "name": "stdout",
     "output_type": "stream",
     "text": [
      "                磁芯损耗  Waveform 1  Waveform 2  Waveform 3\n",
      "0        1997.955250         0.0         0.0         1.0\n",
      "1        2427.749830         0.0         0.0         1.0\n",
      "2        3332.725760         0.0         0.0         1.0\n",
      "3        4502.908007         0.0         0.0         1.0\n",
      "4        6063.023248         0.0         0.0         1.0\n",
      "...              ...         ...         ...         ...\n",
      "12395   20604.900210         0.0         1.0         0.0\n",
      "12396   26504.284280         0.0         1.0         0.0\n",
      "12397   46232.491530         0.0         1.0         0.0\n",
      "12398   61458.085900         0.0         1.0         0.0\n",
      "12399  107581.189300         0.0         1.0         0.0\n",
      "\n",
      "[12400 rows x 4 columns]\n",
      "(12400, 4)\n",
      "                sum_sq       df           F         PR(>F)\n",
      "C(波形)     7.520255e+13      2.0  277.334572  1.485398e-118\n",
      "Residual  1.680797e+15  12397.0         NaN            NaN\n"
     ]
    }
   ],
   "source": [
    "import numpy as np\n",
    "import pandas as pd\n",
    "import statsmodels.api as sm\n",
    "from statsmodels.formula.api import ols\n",
    "\n",
    "# 假设 X 是特征矩阵，Y 是磁芯损耗\n",
    "# wshape 是波形的 one-hot 编码\n",
    "wshape = X[:, 1:4]  # 获取波形\n",
    "loss = Y  # 磁芯损耗\n",
    "\n",
    "# 将波形转换为 DataFrame\n",
    "waveform_labels = ['Waveform 1', 'Waveform 2', 'Waveform 3']\n",
    "wshape_df = pd.DataFrame(wshape, columns=waveform_labels)\n",
    "\n",
    "# 将磁芯损耗和波形数据合并\n",
    "data = pd.DataFrame({'磁芯损耗': loss})\n",
    "data = pd.concat([data, wshape_df], axis=1)\n",
    "\n",
    "print(data)\n",
    "print(data.shape)\n",
    "\n",
    "# 将数据转换为长格式\n",
    "data_long = data.melt(id_vars=['磁芯损耗'], value_vars=waveform_labels, var_name='波形', value_name='是否选择')\n",
    "\n",
    "# 选择被选择的波形\n",
    "data_selected = data_long[data_long['是否选择'] == 1]\n",
    "\n",
    "# 执行方差分析\n",
    "model = ols('磁芯损耗 ~ C(波形)', data=data_selected).fit()\n",
    "anova_table = sm.stats.anova_lm(model, typ=2)\n",
    "print(anova_table)\n"
   ]
  },
  {
   "cell_type": "code",
   "execution_count": 111,
   "metadata": {},
   "outputs": [
    {
     "name": "stdout",
     "output_type": "stream",
     "text": [
      "(12400, 8)\n",
      "(12400,)\n"
     ]
    }
   ],
   "source": [
    "print(X.shape)\n",
    "print(Y.shape)"
   ]
  },
  {
   "cell_type": "code",
   "execution_count": 112,
   "metadata": {},
   "outputs": [
    {
     "name": "stdout",
     "output_type": "stream",
     "text": [
      "(12400, 9)\n"
     ]
    }
   ],
   "source": [
    "combined_XY = np.column_stack((X, Y))\n",
    "\n",
    "# 验证形状\n",
    "print(combined_XY.shape)  # 应该输出 (12400, 9)"
   ]
  },
  {
   "cell_type": "code",
   "execution_count": 192,
   "metadata": {},
   "outputs": [
    {
     "data": {
      "text/plain": [
       "array([[0., 0., 1.],\n",
       "       [0., 0., 1.],\n",
       "       [0., 0., 1.],\n",
       "       ...,\n",
       "       [0., 1., 0.],\n",
       "       [0., 1., 0.],\n",
       "       [0., 1., 0.]])"
      ]
     },
     "execution_count": 192,
     "metadata": {},
     "output_type": "execute_result"
    }
   ],
   "source": [
    "combined_XY[:,1:4]\n",
    "\n",
    "# print(combined_XY[:,1:4])"
   ]
  },
  {
   "cell_type": "code",
   "execution_count": 206,
   "metadata": {},
   "outputs": [
    {
     "name": "stdout",
     "output_type": "stream",
     "text": [
      "[[7.00000000e+01 0.00000000e+00 0.00000000e+00 ... 0.00000000e+00\n",
      "  1.00000000e+00 7.74681759e+02]\n",
      " [7.00000000e+01 0.00000000e+00 0.00000000e+00 ... 0.00000000e+00\n",
      "  1.00000000e+00 9.30356940e+02]\n",
      " [7.00000000e+01 0.00000000e+00 0.00000000e+00 ... 0.00000000e+00\n",
      "  1.00000000e+00 1.28141371e+03]\n",
      " ...\n",
      " [7.00000000e+01 0.00000000e+00 1.00000000e+00 ... 0.00000000e+00\n",
      "  1.00000000e+00 6.76293206e+03]\n",
      " [7.00000000e+01 0.00000000e+00 1.00000000e+00 ... 0.00000000e+00\n",
      "  1.00000000e+00 9.02959678e+03]\n",
      " [7.00000000e+01 0.00000000e+00 1.00000000e+00 ... 0.00000000e+00\n",
      "  1.00000000e+00 1.18914450e+04]]\n"
     ]
    },
    {
     "data": {
      "text/plain": [
       "(687, 9)"
      ]
     },
     "execution_count": 206,
     "metadata": {},
     "output_type": "execute_result"
    }
   ],
   "source": [
    "import numpy as np\n",
    "# 筛选25度，材料1\n",
    "# 假设 combined_XY 已经被定义\n",
    "filtered_data = combined_XY[\n",
    "    (combined_XY[:, 0] == 70) & \n",
    "    (combined_XY[:, 4].astype(int) == 0) & \n",
    "    (combined_XY[:, 5].astype(int) == 0) & \n",
    "    (combined_XY[:, 6].astype(int) == 0) & \n",
    "    (combined_XY[:, 7].astype(int) == 1)\n",
    "]\n",
    "\n",
    "print(filtered_data)\n",
    "filtered_data.shape\n"
   ]
  },
  {
   "cell_type": "code",
   "execution_count": 207,
   "metadata": {},
   "outputs": [
    {
     "name": "stdout",
     "output_type": "stream",
     "text": [
      "[[0. 0. 1.]\n",
      " [0. 0. 1.]\n",
      " [0. 0. 1.]\n",
      " ...\n",
      " [0. 1. 0.]\n",
      " [0. 1. 0.]\n",
      " [0. 1. 0.]]\n"
     ]
    },
    {
     "data": {
      "text/plain": [
       "array([1, 1, 1, 1, 1, 1, 1, 1, 1, 1, 1, 1, 1, 1, 1, 1, 1, 1, 1, 1, 1, 1,\n",
       "       1, 1, 1, 1, 1, 1, 1, 1, 1, 1, 1, 1, 1, 1, 1, 1, 1, 1, 1, 1, 1, 1,\n",
       "       1, 1, 1, 1, 1, 1, 1, 1, 1, 1, 1, 1, 1, 1, 1, 1, 1, 1, 1, 1, 1, 1,\n",
       "       1, 1, 1, 1, 1, 1, 1, 1, 1, 1, 1, 1, 1, 1, 1, 1, 1, 1, 1, 1, 1, 1,\n",
       "       1, 1, 1, 1, 1, 1, 1, 1, 1, 1, 1, 1, 1, 1, 1, 1, 1, 1, 1, 1, 1, 1,\n",
       "       1, 1, 1, 1, 1, 1, 1, 1, 1, 1, 1, 1, 1, 1, 1, 1, 1, 1, 1, 1, 1, 1,\n",
       "       1, 1, 1, 1, 1, 1, 1, 1, 1, 1, 1, 1, 1, 1, 1, 1, 1, 1, 1, 1, 1, 1,\n",
       "       1, 1, 1, 1, 1, 1, 1, 1, 1, 1, 1, 1, 1, 1, 1, 1, 1, 1, 1, 1, 1, 1,\n",
       "       1, 1, 1, 1, 1, 1, 1, 1, 1, 1, 1, 1, 1, 1, 1, 1, 1, 1, 1, 1, 1, 1,\n",
       "       1, 1, 1, 1, 1, 1, 1, 1, 1, 1, 1, 1, 1, 1, 1, 1, 1, 1, 1, 1, 1, 1,\n",
       "       1, 2, 2, 2, 2, 2, 2, 2, 2, 2, 2, 2, 2, 2, 2, 2, 2, 2, 2, 2, 2, 2,\n",
       "       2, 2, 2, 2, 2, 2, 2, 2, 2, 2, 2, 2, 2, 2, 2, 2, 2, 2, 2, 2, 2, 2,\n",
       "       2, 2, 2, 2, 2, 2, 2, 2, 2, 2, 2, 2, 2, 2, 2, 2, 2, 2, 2, 2, 2, 2,\n",
       "       2, 2, 2, 2, 2, 2, 2, 2, 2, 2, 2, 2, 2, 2, 2, 2, 2, 2, 2, 2, 2, 2,\n",
       "       2, 2, 2, 2, 2, 2, 2, 2, 2, 2, 2, 2, 2, 2, 2, 2, 2, 2, 2, 2, 2, 2,\n",
       "       2, 2, 2, 2, 2, 2, 2, 2, 2, 2, 2, 2, 2, 2, 2, 2, 2, 2, 2, 2, 2, 2,\n",
       "       2, 2, 2, 2, 2, 2, 2, 2, 2, 2, 2, 2, 2, 2, 2, 2, 2, 2, 2, 2, 2, 2,\n",
       "       2, 2, 2, 2, 2, 2, 2, 2, 2, 2, 2, 2, 2, 2, 2, 2, 2, 2, 2, 2, 2, 2,\n",
       "       2, 2, 2, 2, 2, 2, 2, 2, 2, 2, 2, 2, 2, 2, 2, 2, 2, 2, 2, 2, 2, 2,\n",
       "       2, 2, 2, 2, 2, 2, 2, 2, 2, 2, 2, 2, 2, 2, 2, 2, 2, 2, 2, 2, 2, 2,\n",
       "       2, 2, 2, 2, 2, 2, 2, 2, 2, 2, 2, 2, 2, 2, 2, 2, 2, 2, 2, 2, 2, 2,\n",
       "       2, 2, 2, 2, 2, 2, 2, 2, 2, 2, 2, 2, 2, 2, 2, 2, 2, 2, 2, 2, 2, 2,\n",
       "       2, 2, 2, 2, 2, 2, 2, 2, 2, 2, 2, 2, 2, 2, 2, 2, 2, 2, 2, 2, 2, 2,\n",
       "       2, 2, 2, 2, 2, 2, 2, 2, 2, 2, 2, 2, 2, 2, 2, 2, 2, 2, 2, 2, 2, 2,\n",
       "       2, 2, 2, 2, 2, 2, 2, 2, 2, 2, 2, 2, 2, 2, 2, 2, 2, 2, 2, 2, 2, 2,\n",
       "       2, 2, 2, 2, 2, 2, 2, 2, 2, 2, 2, 2, 2, 3, 3, 3, 3, 3, 3, 3, 3, 3,\n",
       "       3, 3, 3, 3, 3, 3, 3, 3, 3, 3, 3, 3, 3, 3, 3, 3, 3, 3, 3, 3, 3, 3,\n",
       "       3, 3, 3, 3, 3, 3, 3, 3, 3, 3, 3, 3, 3, 3, 3, 3, 3, 3, 3, 3, 3, 3,\n",
       "       3, 3, 3, 3, 3, 3, 3, 3, 3, 3, 3, 3, 3, 3, 3, 3, 3, 3, 3, 3, 3, 3,\n",
       "       3, 3, 3, 3, 3, 3, 3, 3, 3, 3, 3, 3, 3, 3, 3, 3, 3, 3, 3, 3, 3, 3,\n",
       "       3, 3, 3, 3, 3, 3, 3, 3, 3, 3, 3, 3, 3, 3, 3, 3, 3, 3, 3, 3, 3, 3,\n",
       "       3, 3, 3, 3, 3])"
      ]
     },
     "execution_count": 207,
     "metadata": {},
     "output_type": "execute_result"
    }
   ],
   "source": [
    "print(filtered_data[:, 1:4])\n",
    "\n",
    "wave_id = filtered_data[:, 1:4]\n",
    "output = np.zeros(wave_id.shape[0], dtype=int)\n",
    "output[np.all(wave_id == [0, 0, 1], axis=1)] = 1  # 对应 [0, 0, 1] 正\n",
    "output[np.all(wave_id == [0, 1, 0], axis=1)] = 3  # 对应 [0, 1, 0] 梯形\n",
    "output[np.all(wave_id == [1, 0, 0], axis=1)] = 2  # 对应 [1, 0, 0] 三角\n",
    "\n",
    "# x_1 = np.argmax(filtered_data[:, 1:4], axis=1)\n",
    "# x_1\n",
    "output"
   ]
  },
  {
   "cell_type": "code",
   "execution_count": 208,
   "metadata": {},
   "outputs": [
    {
     "data": {
      "image/png": "[encoded data removed]",
      "text/plain": [
       "<Figure size 1000x600 with 1 Axes>"
      ]
     },
     "metadata": {},
     "output_type": "display_data"
    }
   ],
   "source": [
    "# 绘制散点图\n",
    "plt.figure(figsize=(10, 6))\n",
    "sns.scatterplot(x=output, y=filtered_data[: , 8])\n",
    "plt.title('90度、材料2条件下')\n",
    "plt.xlabel('励磁波形')\n",
    "plt.ylabel('磁芯损耗')\n",
    "plt.grid()\n",
    "plt.show()"
   ]
  }
 ],
 "metadata": {
  "kernelspec": {
   "display_name": "study",
   "language": "python",
   "name": "python3"
  },
  "language_info": {
   "codemirror_mode": {
    "name": "ipython",
    "version": 3
   },
   "file_extension": ".py",
   "mimetype": "text/x-python",
   "name": "python",
   "nbconvert_exporter": "python",
   "pygments_lexer": "ipython3",
   "version": "3.9.19"
  }
 },
 "nbformat": 4,
 "nbformat_minor": 2
}
