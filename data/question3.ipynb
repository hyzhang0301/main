{
 "cells": [
  {
   "cell_type": "code",
   "execution_count": 1,
   "metadata": {},
   "outputs": [
    {
     "data": {
      "text/html": [
       "<div>\n",
       "<style scoped>\n",
       "    .dataframe tbody tr th:only-of-type {\n",
       "        vertical-align: middle;\n",
       "    }\n",
       "\n",
       "    .dataframe tbody tr th {\n",
       "        vertical-align: top;\n",
       "    }\n",
       "\n",
       "    .dataframe thead th {\n",
       "        text-align: right;\n",
       "    }\n",
       "</style>\n",
       "<table border=\"1\" class=\"dataframe\">\n",
       "  <thead>\n",
       "    <tr style=\"text-align: right;\">\n",
       "      <th></th>\n",
       "      <th>三角波</th>\n",
       "      <th>梯形波</th>\n",
       "      <th>正弦波</th>\n",
       "    </tr>\n",
       "  </thead>\n",
       "  <tbody>\n",
       "    <tr>\n",
       "      <th>0</th>\n",
       "      <td>False</td>\n",
       "      <td>False</td>\n",
       "      <td>True</td>\n",
       "    </tr>\n",
       "    <tr>\n",
       "      <th>1</th>\n",
       "      <td>False</td>\n",
       "      <td>False</td>\n",
       "      <td>True</td>\n",
       "    </tr>\n",
       "    <tr>\n",
       "      <th>2</th>\n",
       "      <td>False</td>\n",
       "      <td>False</td>\n",
       "      <td>True</td>\n",
       "    </tr>\n",
       "    <tr>\n",
       "      <th>3</th>\n",
       "      <td>False</td>\n",
       "      <td>False</td>\n",
       "      <td>True</td>\n",
       "    </tr>\n",
       "    <tr>\n",
       "      <th>4</th>\n",
       "      <td>False</td>\n",
       "      <td>False</td>\n",
       "      <td>True</td>\n",
       "    </tr>\n",
       "    <tr>\n",
       "      <th>...</th>\n",
       "      <td>...</td>\n",
       "      <td>...</td>\n",
       "      <td>...</td>\n",
       "    </tr>\n",
       "    <tr>\n",
       "      <th>3395</th>\n",
       "      <td>False</td>\n",
       "      <td>True</td>\n",
       "      <td>False</td>\n",
       "    </tr>\n",
       "    <tr>\n",
       "      <th>3396</th>\n",
       "      <td>False</td>\n",
       "      <td>True</td>\n",
       "      <td>False</td>\n",
       "    </tr>\n",
       "    <tr>\n",
       "      <th>3397</th>\n",
       "      <td>False</td>\n",
       "      <td>True</td>\n",
       "      <td>False</td>\n",
       "    </tr>\n",
       "    <tr>\n",
       "      <th>3398</th>\n",
       "      <td>False</td>\n",
       "      <td>True</td>\n",
       "      <td>False</td>\n",
       "    </tr>\n",
       "    <tr>\n",
       "      <th>3399</th>\n",
       "      <td>False</td>\n",
       "      <td>True</td>\n",
       "      <td>False</td>\n",
       "    </tr>\n",
       "  </tbody>\n",
       "</table>\n",
       "<p>3400 rows × 3 columns</p>\n",
       "</div>"
      ],
      "text/plain": [
       "        三角波    梯形波    正弦波\n",
       "0     False  False   True\n",
       "1     False  False   True\n",
       "2     False  False   True\n",
       "3     False  False   True\n",
       "4     False  False   True\n",
       "...     ...    ...    ...\n",
       "3395  False   True  False\n",
       "3396  False   True  False\n",
       "3397  False   True  False\n",
       "3398  False   True  False\n",
       "3399  False   True  False\n",
       "\n",
       "[3400 rows x 3 columns]"
      ]
     },
     "execution_count": 1,
     "metadata": {},
     "output_type": "execute_result"
    }
   ],
   "source": [
    "from utils import read_column_from_excel, MultiLinearRegression, get_onehot_labels\n",
    "\n",
    "temperature1 = read_column_from_excel('附件一（训练集）.xlsx', column_name=\"温度，oC\", sheet_name=\"材料1\")\n",
    "wave_shape1 = get_onehot_labels('附件一（训练集）.xlsx', column_name=\"励磁波形\", name=\"材料1\")\n",
    "\n",
    "\n",
    "temperature2 = read_column_from_excel('附件一（训练集）.xlsx', column_name=\"温度，oC\", sheet_name=\"材料2\")\n",
    "wave_shape2 = get_onehot_labels('附件一（训练集）.xlsx', column_name=\"励磁波形\", name=\"材料2\")\n",
    "\n",
    "temperature3 = read_column_from_excel('附件一（训练集）.xlsx', column_name=\"温度，oC\", sheet_name=\"材料3\")\n",
    "wave_shape3 = get_onehot_labels('附件一（训练集）.xlsx', column_name=\"励磁波形\", name=\"材料3\")\n",
    "\n",
    "temperature4 = read_column_from_excel('附件一（训练集）.xlsx', column_name=\"温度，oC\", sheet_name=\"材料4\")\n",
    "wave_shape4 = get_onehot_labels('附件一（训练集）.xlsx', column_name=\"励磁波形\", name=\"材料4\")\n",
    "\n",
    "wave_shape1"
   ]
  },
  {
   "cell_type": "code",
   "execution_count": 2,
   "metadata": {},
   "outputs": [
    {
     "data": {
      "text/plain": [
       "(2800, 3)"
      ]
     },
     "execution_count": 2,
     "metadata": {},
     "output_type": "execute_result"
    }
   ],
   "source": [
    "wave_shape4.shape"
   ]
  },
  {
   "cell_type": "code",
   "execution_count": 3,
   "metadata": {},
   "outputs": [
    {
     "name": "stdout",
     "output_type": "stream",
     "text": [
      "[[1. 0. 0. 0.]\n",
      " [1. 0. 0. 0.]\n",
      " [1. 0. 0. 0.]\n",
      " ...\n",
      " [1. 0. 0. 0.]\n",
      " [1. 0. 0. 0.]\n",
      " [1. 0. 0. 0.]]\n"
     ]
    },
    {
     "data": {
      "text/plain": [
       "(2800, 8)"
      ]
     },
     "execution_count": 3,
     "metadata": {},
     "output_type": "execute_result"
    }
   ],
   "source": [
    "import numpy as np\n",
    "\n",
    "# 创建四个 (3400, 4) 的 one-hot 矩阵\n",
    "one_hot_matrix1 = np.zeros((3400, 4))\n",
    "one_hot_matrix1[:, 0] = 1  \n",
    "\n",
    "one_hot_matrix2 = np.zeros((3000, 4))\n",
    "one_hot_matrix2[:, 1] = 1  \n",
    "\n",
    "one_hot_matrix3 = np.zeros((3200, 4))\n",
    "one_hot_matrix3[:, 2] = 1  \n",
    "\n",
    "one_hot_matrix4 = np.zeros((2800, 4))\n",
    "one_hot_matrix4[:, 3] = 1  \n",
    "\n",
    "print(one_hot_matrix1)\n",
    "# 拼接 \n",
    "x1 = np.column_stack((temperature1, wave_shape1, one_hot_matrix1))\n",
    "x2 = np.column_stack((temperature2, wave_shape2, one_hot_matrix2))\n",
    "x3 = np.column_stack((temperature3, wave_shape3, one_hot_matrix3))\n",
    "x4 = np.column_stack((temperature4, wave_shape4, one_hot_matrix4))\n",
    "\n",
    "x4.shape"
   ]
  },
  {
   "cell_type": "markdown",
   "metadata": {},
   "source": [
    "**输入变量拼接**"
   ]
  },
  {
   "cell_type": "code",
   "execution_count": 4,
   "metadata": {},
   "outputs": [
    {
     "data": {
      "text/plain": [
       "(12400, 8)"
      ]
     },
     "execution_count": 4,
     "metadata": {},
     "output_type": "execute_result"
    }
   ],
   "source": [
    "combined = np.vstack((x1, x2, x3, x4))\n",
    "combined.shape"
   ]
  },
  {
   "cell_type": "markdown",
   "metadata": {},
   "source": [
    "**拼接标签数据**"
   ]
  },
  {
   "cell_type": "code",
   "execution_count": 5,
   "metadata": {},
   "outputs": [
    {
     "data": {
      "text/plain": [
       "0         2525.795337\n",
       "1         4427.524958\n",
       "2         5780.576037\n",
       "3        10983.412600\n",
       "4        14526.685680\n",
       "            ...      \n",
       "2795     20604.900210\n",
       "2796     26504.284280\n",
       "2797     46232.491530\n",
       "2798     61458.085900\n",
       "2799    107581.189300\n",
       "Name: 磁芯损耗，w/m3, Length: 2800, dtype: float64"
      ]
     },
     "execution_count": 5,
     "metadata": {},
     "output_type": "execute_result"
    }
   ],
   "source": [
    "y1 = read_column_from_excel('附件一（训练集）.xlsx', column_name='磁芯损耗，w/m3', sheet_name='材料1')\n",
    "y2 = read_column_from_excel('附件一（训练集）.xlsx', column_name='磁芯损耗，w/m3', sheet_name='材料2')\n",
    "y3 = read_column_from_excel('附件一（训练集）.xlsx', column_name='磁芯损耗，w/m3', sheet_name='材料3')\n",
    "y4 = read_column_from_excel('附件一（训练集）.xlsx', column_name='磁芯损耗，w/m3', sheet_name='材料4')\n",
    "y4"
   ]
  },
  {
   "cell_type": "code",
   "execution_count": 6,
   "metadata": {},
   "outputs": [
    {
     "data": {
      "text/plain": [
       "(2800,)"
      ]
     },
     "execution_count": 6,
     "metadata": {},
     "output_type": "execute_result"
    }
   ],
   "source": [
    "y4.shape"
   ]
  },
  {
   "cell_type": "code",
   "execution_count": 7,
   "metadata": {},
   "outputs": [
    {
     "data": {
      "text/plain": [
       "(12400,)"
      ]
     },
     "execution_count": 7,
     "metadata": {},
     "output_type": "execute_result"
    }
   ],
   "source": [
    "y_combined = np.concatenate((y1, y2, y3, y4))\n",
    "y_combined.shape"
   ]
  },
  {
   "cell_type": "markdown",
   "metadata": {},
   "source": [
    "**训练**"
   ]
  },
  {
   "cell_type": "code",
   "execution_count": 8,
   "metadata": {},
   "outputs": [],
   "source": [
    "\n",
    "from sklearn.model_selection import train_test_split\n",
    "# 多元逻辑回归\n",
    "mlr = MultiLinearRegression()\n",
    "X = combined\n",
    "Y = y_combined\n",
    "\n",
    "X_train, X_test, Y_train, Y_test = train_test_split(X, Y, test_size=0.2, random_state=42)"
   ]
  },
  {
   "cell_type": "code",
   "execution_count": 9,
   "metadata": {},
   "outputs": [
    {
     "data": {
      "text/plain": [
       "array([[25.,  0.,  0., ...,  0.,  0.,  0.],\n",
       "       [25.,  0.,  0., ...,  0.,  0.,  0.],\n",
       "       [25.,  0.,  0., ...,  0.,  0.,  0.],\n",
       "       ...,\n",
       "       [90.,  0.,  1., ...,  0.,  0.,  1.],\n",
       "       [90.,  0.,  1., ...,  0.,  0.,  1.],\n",
       "       [90.,  0.,  1., ...,  0.,  0.,  1.]])"
      ]
     },
     "execution_count": 9,
     "metadata": {},
     "output_type": "execute_result"
    }
   ],
   "source": [
    "X"
   ]
  },
  {
   "cell_type": "code",
   "execution_count": 10,
   "metadata": {},
   "outputs": [
    {
     "name": "stdout",
     "output_type": "stream",
     "text": [
      "Model R² score: 0.06229806687813377\n"
     ]
    }
   ],
   "source": [
    "# 拟合\n",
    "mlr.fit(X_train, Y_train)\n",
    "# 评估\n",
    "score = mlr.score(X_test, Y_test)\n",
    "print(f\"Model R² score: {score}\")"
   ]
  },
  {
   "cell_type": "code",
   "execution_count": 11,
   "metadata": {},
   "outputs": [
    {
     "name": "stdout",
     "output_type": "stream",
     "text": [
      "R² Score: 0.05818992851726035\n",
      "Mean Squared Error: 126709761013.04173\n"
     ]
    }
   ],
   "source": [
    "from utils import RandomForestRegressorModel\n",
    "\n",
    "# 创建模型实例\n",
    "rf_model = RandomForestRegressorModel(n_estimators=100, random_state=42)\n",
    "\n",
    "# 训练模型\n",
    "rf_model.train(X_train, Y_train)\n",
    "\n",
    "    # 进行预测\n",
    "predictions = rf_model.predict(X_test)\n",
    "\n",
    "# 评估模型\n",
    "r2, mse = rf_model.evaluate(Y_test, predictions)\n",
    "\n",
    "print(f\"R² Score: {r2}\")\n",
    "print(f\"Mean Squared Error: {mse}\")\n"
   ]
  },
  {
   "cell_type": "code",
   "execution_count": 31,
   "metadata": {},
   "outputs": [
    {
     "name": "stdout",
     "output_type": "stream",
     "text": [
      "input size 5\n",
      "Epoch [10/1000], Loss: 143037579264.0000\n",
      "Epoch [20/1000], Loss: 134006013952.0000\n",
      "Epoch [30/1000], Loss: 132300931072.0000\n",
      "Epoch [40/1000], Loss: 132101906432.0000\n",
      "Epoch [50/1000], Loss: 132015161344.0000\n",
      "Epoch [60/1000], Loss: 131900809216.0000\n",
      "Epoch [70/1000], Loss: 131774611456.0000\n",
      "Epoch [80/1000], Loss: 131722805248.0000\n",
      "Epoch [90/1000], Loss: 131671924736.0000\n",
      "Epoch [100/1000], Loss: 131630489600.0000\n",
      "Epoch [110/1000], Loss: 131587383296.0000\n",
      "Epoch [120/1000], Loss: 131549937664.0000\n",
      "Epoch [130/1000], Loss: 131513483264.0000\n",
      "Epoch [140/1000], Loss: 131477397504.0000\n",
      "Epoch [150/1000], Loss: 131444998144.0000\n",
      "Epoch [160/1000], Loss: 131416965120.0000\n",
      "Epoch [170/1000], Loss: 131392323584.0000\n",
      "Epoch [180/1000], Loss: 131368656896.0000\n",
      "Epoch [190/1000], Loss: 131350962176.0000\n",
      "Epoch [200/1000], Loss: 131334021120.0000\n",
      "Epoch [210/1000], Loss: 131319291904.0000\n",
      "Epoch [220/1000], Loss: 131305775104.0000\n",
      "Epoch [230/1000], Loss: 131292839936.0000\n",
      "Epoch [240/1000], Loss: 131279986688.0000\n",
      "Epoch [250/1000], Loss: 131269214208.0000\n",
      "Epoch [260/1000], Loss: 131259973632.0000\n",
      "Epoch [270/1000], Loss: 131251027968.0000\n",
      "Epoch [280/1000], Loss: 131247865856.0000\n",
      "Epoch [290/1000], Loss: 131251937280.0000\n",
      "Epoch [300/1000], Loss: 131237068800.0000\n",
      "Epoch [310/1000], Loss: 131230097408.0000\n",
      "Epoch [320/1000], Loss: 131227402240.0000\n",
      "Epoch [330/1000], Loss: 131224920064.0000\n",
      "Epoch [340/1000], Loss: 131243286528.0000\n",
      "Epoch [350/1000], Loss: 131224821760.0000\n",
      "Epoch [360/1000], Loss: 131212754944.0000\n",
      "Epoch [370/1000], Loss: 131210534912.0000\n",
      "Epoch [380/1000], Loss: 131206823936.0000\n",
      "Epoch [390/1000], Loss: 131362324480.0000\n",
      "Epoch [400/1000], Loss: 131241353216.0000\n",
      "Epoch [410/1000], Loss: 131210534912.0000\n",
      "Epoch [420/1000], Loss: 131203751936.0000\n",
      "Epoch [430/1000], Loss: 131194904576.0000\n",
      "Epoch [440/1000], Loss: 131191332864.0000\n",
      "Epoch [450/1000], Loss: 131269320704.0000\n",
      "Epoch [460/1000], Loss: 131218554880.0000\n",
      "Epoch [470/1000], Loss: 131223404544.0000\n",
      "Epoch [480/1000], Loss: 131201212416.0000\n",
      "Epoch [490/1000], Loss: 131191119872.0000\n",
      "Epoch [500/1000], Loss: 131183443968.0000\n",
      "Epoch [510/1000], Loss: 131180765184.0000\n",
      "Epoch [520/1000], Loss: 131178831872.0000\n",
      "Epoch [530/1000], Loss: 131176292352.0000\n",
      "Epoch [540/1000], Loss: 131173924864.0000\n",
      "Epoch [550/1000], Loss: 131287760896.0000\n",
      "Epoch [560/1000], Loss: 131424378880.0000\n",
      "Epoch [570/1000], Loss: 131260432384.0000\n",
      "Epoch [580/1000], Loss: 131218259968.0000\n",
      "Epoch [590/1000], Loss: 131193487360.0000\n",
      "Epoch [600/1000], Loss: 131184623616.0000\n",
      "Epoch [610/1000], Loss: 131180847104.0000\n",
      "Epoch [620/1000], Loss: 131176464384.0000\n",
      "Epoch [630/1000], Loss: 131174137856.0000\n",
      "Epoch [640/1000], Loss: 131171606528.0000\n",
      "Epoch [650/1000], Loss: 131169304576.0000\n",
      "Epoch [660/1000], Loss: 131166707712.0000\n",
      "Epoch [670/1000], Loss: 131164815360.0000\n",
      "Epoch [680/1000], Loss: 131163193344.0000\n",
      "Epoch [690/1000], Loss: 131161513984.0000\n",
      "Epoch [700/1000], Loss: 131159932928.0000\n",
      "Epoch [710/1000], Loss: 131160989696.0000\n",
      "Epoch [720/1000], Loss: 131663962112.0000\n",
      "Epoch [730/1000], Loss: 131304144896.0000\n",
      "Epoch [740/1000], Loss: 131208896512.0000\n",
      "Epoch [750/1000], Loss: 131171483648.0000\n",
      "Epoch [760/1000], Loss: 131166289920.0000\n",
      "Epoch [770/1000], Loss: 131163095040.0000\n",
      "Epoch [780/1000], Loss: 131160743936.0000\n",
      "Epoch [790/1000], Loss: 131158310912.0000\n",
      "Epoch [800/1000], Loss: 131156484096.0000\n",
      "Epoch [810/1000], Loss: 131155451904.0000\n",
      "Epoch [820/1000], Loss: 131153772544.0000\n",
      "Epoch [830/1000], Loss: 131153313792.0000\n",
      "Epoch [840/1000], Loss: 131192635392.0000\n",
      "Epoch [850/1000], Loss: 131188711424.0000\n",
      "Epoch [860/1000], Loss: 131203145728.0000\n",
      "Epoch [870/1000], Loss: 131161931776.0000\n",
      "Epoch [880/1000], Loss: 131157778432.0000\n",
      "Epoch [890/1000], Loss: 131153313792.0000\n",
      "Epoch [900/1000], Loss: 131152257024.0000\n",
      "Epoch [910/1000], Loss: 131150897152.0000\n",
      "Epoch [920/1000], Loss: 131150012416.0000\n",
      "Epoch [930/1000], Loss: 131149070336.0000\n",
      "Epoch [940/1000], Loss: 131148496896.0000\n",
      "Epoch [950/1000], Loss: 131160866816.0000\n",
      "Epoch [960/1000], Loss: 131293970432.0000\n",
      "Epoch [970/1000], Loss: 131215998976.0000\n",
      "Epoch [980/1000], Loss: 131176448000.0000\n",
      "Epoch [990/1000], Loss: 131157770240.0000\n",
      "Epoch [1000/1000], Loss: 131154182144.0000\n",
      "Neural Network R² Score: 0.05900288208406368\n",
      "Neural Network Mean Squared Error: 126600387419.2744\n"
     ]
    }
   ],
   "source": [
    "import torch\n",
    "import torch.nn as nn\n",
    "import torch.optim as optim\n",
    "import pandas as pd\n",
    "from sklearn.model_selection import train_test_split\n",
    "from sklearn.preprocessing import StandardScaler\n",
    "\n",
    "class NeuralNetworkRegressor(nn.Module):\n",
    "    def __init__(self, input_size):\n",
    "        super(NeuralNetworkRegressor, self).__init__()\n",
    "        self.fc1 = nn.Linear(input_size, 128)\n",
    "        self.fc2 = nn.Linear(128, 64)\n",
    "        self.fc3 = nn.Linear(64, 1)\n",
    "\n",
    "    def forward(self, x):\n",
    "        x = torch.relu(self.fc1(x))\n",
    "        x = torch.relu(self.fc2(x))\n",
    "        x = self.fc3(x)\n",
    "        return x\n",
    "\n",
    "def train_model(model, criterion, optimizer, X_train, y_train, epochs=100):\n",
    "    model.train()\n",
    "    for epoch in range(epochs):\n",
    "        inputs = torch.tensor(X_train, dtype=torch.float32)\n",
    "        targets = torch.tensor(y_train, dtype=torch.float32).view(-1, 1)        #修改\n",
    "        \n",
    "        optimizer.zero_grad()\n",
    "        outputs = model(inputs)\n",
    "        loss = criterion(outputs, targets)\n",
    "        loss.backward()\n",
    "        optimizer.step()\n",
    "        \n",
    "        if (epoch + 1) % 10 == 0:\n",
    "            print(f'Epoch [{epoch + 1}/{epochs}], Loss: {loss.item():.4f}')\n",
    "\n",
    "def evaluate_model(model, X_test, y_test):\n",
    "    model.eval()\n",
    "    with torch.no_grad():\n",
    "        inputs = torch.tensor(X_test, dtype=torch.float32)\n",
    "        outputs = model(inputs)\n",
    "        return outputs.numpy()\n",
    "\n",
    "\n",
    "# data = pd.read_excel('附件一.xlsx')\n",
    "# X = data[['温度', '励磁波形1', '励磁波形2', '磁芯材料1', '磁芯材料2']]\n",
    "# y = data['磁芯损耗']\n",
    "\n",
    "# 划分训练集和测试集\n",
    "\n",
    "    # 数据标准化\n",
    "# scaler = StandardScaler()\n",
    "# X_train = scaler.fit_transform(X_train)\n",
    "# X_test = scaler.transform(X_test)\n",
    "\n",
    "# 创建模型实例\n",
    "input_size = X_train.shape[1]\n",
    "model = NeuralNetworkRegressor(input_size)\n",
    "print(\"input size\",input_size)\n",
    "\n",
    "# 定义损失函数和优化器\n",
    "criterion = nn.MSELoss()\n",
    "optimizer = optim.Adam(model.parameters(), lr=1)\n",
    "\n",
    "# 训练模型\n",
    "train_model(model, criterion, optimizer, X_train, Y_train, epochs=1000)\n",
    "\n",
    "# 进行预测\n",
    "predictions = evaluate_model(model, X_test, Y_test)\n",
    "\n",
    "# 评估模型\n",
    "from sklearn.metrics import r2_score, mean_squared_error\n",
    "r2 = r2_score(Y_test, predictions)\n",
    "mse = mean_squared_error(Y_test, predictions)\n",
    "\n",
    "print(f\"Neural Network R² Score: {r2}\")\n",
    "print(f\"Neural Network Mean Squared Error: {mse}\")"
   ]
  },
  {
   "cell_type": "code",
   "execution_count": 18,
   "metadata": {},
   "outputs": [
    {
     "name": "stdout",
     "output_type": "stream",
     "text": [
      "Explained variance ratio: [0.21174993 0.18663396 0.17011099 0.16358272 0.14436184]\n"
     ]
    }
   ],
   "source": [
    "# PCA\n",
    "# import pandas as pd\n",
    "from sklearn.decomposition import PCA\n",
    "from sklearn.preprocessing import StandardScaler\n",
    "\n",
    "# 假设 X 是从 Excel 或其他来源读取的数据\n",
    "# X = pd.read_excel('your_data.xlsx')\n",
    "\n",
    "# 标准化\n",
    "scaler = StandardScaler()\n",
    "X_scaled = scaler.fit_transform(X)\n",
    "\n",
    "# 应用 PCA\n",
    "pca = PCA(n_components=5)  # 保留 2 个主成分\n",
    "X_pca = pca.fit_transform(X_scaled)\n",
    "\n",
    "# 查看解释的方差\n",
    "explained_variance = pca.explained_variance_ratio_\n",
    "print(\"Explained variance ratio:\", explained_variance)\n",
    "\n",
    "# X_pca 现在可以用于模型训练\n"
   ]
  },
  {
   "cell_type": "code",
   "execution_count": 19,
   "metadata": {},
   "outputs": [
    {
     "data": {
      "text/plain": [
       "(12400, 5)"
      ]
     },
     "execution_count": 19,
     "metadata": {},
     "output_type": "execute_result"
    }
   ],
   "source": [
    "X_pca.shape"
   ]
  },
  {
   "cell_type": "code",
   "execution_count": 20,
   "metadata": {},
   "outputs": [
    {
     "name": "stdout",
     "output_type": "stream",
     "text": [
      "Model R² score: 0.05980967751461175\n"
     ]
    }
   ],
   "source": [
    "X_train, X_test, Y_train, Y_test = train_test_split(X_pca, Y, test_size=0.2, random_state=42)\n",
    "\n",
    "# 拟合\n",
    "mlr.fit(X_train, Y_train)\n",
    "# 评估\n",
    "score = mlr.score(X_test, Y_test)\n",
    "print(f\"Model R² score: {score}\")"
   ]
  }
 ],
 "metadata": {
  "kernelspec": {
   "display_name": "study",
   "language": "python",
   "name": "python3"
  },
  "language_info": {
   "codemirror_mode": {
    "name": "ipython",
    "version": 3
   },
   "file_extension": ".py",
   "mimetype": "text/x-python",
   "name": "python",
   "nbconvert_exporter": "python",
   "pygments_lexer": "ipython3",
   "version": "3.9.19"
  }
 },
 "nbformat": 4,
 "nbformat_minor": 2
}
